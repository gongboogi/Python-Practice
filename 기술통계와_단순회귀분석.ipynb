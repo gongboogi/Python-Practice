{
  "nbformat": 4,
  "nbformat_minor": 0,
  "metadata": {
    "colab": {
      "name": "기술통계와 단순회귀분석.ipynb",
      "provenance": [],
      "collapsed_sections": [],
      "authorship_tag": "ABX9TyNSnS2dXai4wENPRYb+FWu8",
      "include_colab_link": true
    },
    "kernelspec": {
      "name": "python3",
      "display_name": "Python 3"
    },
    "language_info": {
      "name": "python"
    }
  },
  "cells": [
    {
      "cell_type": "markdown",
      "metadata": {
        "id": "view-in-github",
        "colab_type": "text"
      },
      "source": [
        "<a href=\"https://colab.research.google.com/github/gongboogi/Python-Practice/blob/main/%EA%B8%B0%EC%88%A0%ED%86%B5%EA%B3%84%EC%99%80_%EB%8B%A8%EC%88%9C%ED%9A%8C%EA%B7%80%EB%B6%84%EC%84%9D.ipynb\" target=\"_parent\"><img src=\"https://colab.research.google.com/assets/colab-badge.svg\" alt=\"Open In Colab\"/></a>"
      ]
    },
    {
      "cell_type": "markdown",
      "source": [
        "# 기술통계와 단순회귀분석"
      ],
      "metadata": {
        "id": "TRKYXuIbuVtW"
      }
    },
    {
      "cell_type": "code",
      "execution_count": 1,
      "metadata": {
        "colab": {
          "base_uri": "https://localhost:8080/",
          "height": 35
        },
        "id": "cu_ASnsCtdYs",
        "outputId": "54a373c4-b081-4407-be25-272af805c524"
      },
      "outputs": [
        {
          "output_type": "execute_result",
          "data": {
            "text/plain": [
              "'%.3f'"
            ],
            "application/vnd.google.colaboratory.intrinsic+json": {
              "type": "string"
            }
          },
          "metadata": {},
          "execution_count": 1
        }
      ],
      "source": [
        "# 라이브러리 임포트\n",
        "import numpy as np\n",
        "import scipy as sp\n",
        "import pandas as pd\n",
        "from pandas import Series, DataFrame\n",
        "\n",
        "# 시각화 라이브러리\n",
        "import matplotlib.pyplot as plt\n",
        "import matplotlib as mpl\n",
        "import seaborn as sns\n",
        "sns.set()\n",
        "% matplotlib inline\n",
        "\n",
        "# 소수점 세 번째 자리 숫자까지 표시\n",
        "%precision 3"
      ]
    },
    {
      "cell_type": "markdown",
      "source": [
        "## 인터넷 등에 올라와있는 데이터를 읽어들이기\n",
        "\n",
        "미리 다운 받은 데이터를 불러올 수도 있지만 파이썬은 직접 데이터를 읽어들여 저장할 수 있다. 웹에서 ZIP 파일 형식으로 공개된 데이터를 다운로드해 이용해보겠다."
      ],
      "metadata": {
        "id": "tgCYFPc6uZVb"
      }
    },
    {
      "cell_type": "markdown",
      "source": [
        "**현재 디렉터리 확인**"
      ],
      "metadata": {
        "id": "zgbohC-SvAub"
      }
    },
    {
      "cell_type": "code",
      "source": [
        "pwd"
      ],
      "metadata": {
        "colab": {
          "base_uri": "https://localhost:8080/",
          "height": 35
        },
        "id": "bkxg9tu8uv4e",
        "outputId": "5aab5015-1c30-45d8-b54f-84fb7dca3239"
      },
      "execution_count": 2,
      "outputs": [
        {
          "output_type": "execute_result",
          "data": {
            "text/plain": [
              "'/content'"
            ],
            "application/vnd.google.colaboratory.intrinsic+json": {
              "type": "string"
            }
          },
          "metadata": {},
          "execution_count": 2
        }
      ]
    },
    {
      "cell_type": "markdown",
      "source": [
        "**현재 디렉터리 생성과 이동**\n",
        "\n",
        "다운로드될 디렉러리를 생성한다."
      ],
      "metadata": {
        "id": "oaEztbDrvF0z"
      }
    },
    {
      "cell_type": "code",
      "source": [
        "mkdir python-practice"
      ],
      "metadata": {
        "id": "19C1WcTLvIrC"
      },
      "execution_count": 3,
      "outputs": []
    },
    {
      "cell_type": "code",
      "source": [
        "cd ./python-practice"
      ],
      "metadata": {
        "colab": {
          "base_uri": "https://localhost:8080/"
        },
        "id": "ldkXW1h3wEoa",
        "outputId": "4aa30a6e-7325-466f-bd36-1595f352a9fb"
      },
      "execution_count": 4,
      "outputs": [
        {
          "output_type": "stream",
          "name": "stdout",
          "text": [
            "/content/python-practice\n"
          ]
        }
      ]
    },
    {
      "cell_type": "markdown",
      "source": [
        "**샘플 데이터 다운로드**\n",
        "\n",
        "디렉터리에 샘플 데이터를 다운로드한다. 캘리포니아 대학 어바인 캠퍼스가 제공하는 샘플데이터를 이용.\n",
        "\n",
        "ZIP 파일을 읽어 들이거나 웹에서 직접 다운로드하려면 다음과 같이 requests, zipfile, io라는 세 개의 라이브러리를 사용한다."
      ],
      "metadata": {
        "id": "fMyAuFnIwIiH"
      }
    },
    {
      "cell_type": "code",
      "source": [
        "# 웹에서 데이터를 받거나 zip 파일을 다루기 위한 라이브러리\n",
        "import requests, zipfile\n",
        "from io import StringIO\n",
        "import io"
      ],
      "metadata": {
        "id": "rIiBZrF1wO62"
      },
      "execution_count": 5,
      "outputs": []
    },
    {
      "cell_type": "markdown",
      "source": [
        "**ZIP 파일 다운, 압축풀기**"
      ],
      "metadata": {
        "id": "9SCG5gyNxCi6"
      }
    },
    {
      "cell_type": "code",
      "source": [
        "# 데이터가 있는 url 지정\n",
        "url = 'http://archive.ics.uci.edu/ml/machine-learning-databases/00356/student.zip'\n",
        "\n",
        "# 데이터를 url에서 받기\n",
        "r = requests.get(url, stream = True)\n",
        "\n",
        "# zipfile을 읽어들여 압축 풀기\n",
        "\n",
        "z = zipfile.ZipFile(io.BytesIO(r.content))\n",
        "z.extractall()"
      ],
      "metadata": {
        "id": "TR63aXXPxBp9"
      },
      "execution_count": 6,
      "outputs": []
    },
    {
      "cell_type": "code",
      "source": [
        "ls"
      ],
      "metadata": {
        "colab": {
          "base_uri": "https://localhost:8080/"
        },
        "id": "eHmbE7X6zIiE",
        "outputId": "30cc276c-fdb1-48b4-d58d-b68134046a1f"
      },
      "execution_count": 7,
      "outputs": [
        {
          "output_type": "stream",
          "name": "stdout",
          "text": [
            "student-mat.csv  student-merge.R  student-por.csv  student.txt\n"
          ]
        }
      ]
    },
    {
      "cell_type": "markdown",
      "source": [
        "## 데이터 읽기와 확인"
      ],
      "metadata": {
        "id": "Promd_6-zLdz"
      }
    },
    {
      "cell_type": "markdown",
      "source": [
        "데이터를 DataFrame으로 읽어들이기"
      ],
      "metadata": {
        "id": "vF-YmxB6zOH9"
      }
    },
    {
      "cell_type": "code",
      "source": [
        "student_data_math = pd.read_csv('student-mat.csv')"
      ],
      "metadata": {
        "id": "yoYvPMrgzNXC"
      },
      "execution_count": 8,
      "outputs": []
    },
    {
      "cell_type": "markdown",
      "source": [
        "데이터 확인\n",
        "\n",
        "head 명령어를 실행하면 데이터의 첫 행부터 시작해 일부 데이터를 샘플로 출력한다."
      ],
      "metadata": {
        "id": "XJnbZ02a0IIx"
      }
    },
    {
      "cell_type": "code",
      "source": [
        "student_data_math.head()"
      ],
      "metadata": {
        "colab": {
          "base_uri": "https://localhost:8080/",
          "height": 270
        },
        "id": "PiI81zKB0QbB",
        "outputId": "4e4bbce1-eb07-42b4-c264-36341ab23db3"
      },
      "execution_count": 9,
      "outputs": [
        {
          "output_type": "execute_result",
          "data": {
            "text/plain": [
              "  school;sex;age;address;famsize;Pstatus;Medu;Fedu;Mjob;Fjob;reason;guardian;traveltime;studytime;failures;schoolsup;famsup;paid;activities;nursery;higher;internet;romantic;famrel;freetime;goout;Dalc;Walc;health;absences;G1;G2;G3\n",
              "0  GP;\"F\";18;\"U\";\"GT3\";\"A\";4;4;\"at_home\";\"teacher...                                                                                                                                                                                 \n",
              "1  GP;\"F\";17;\"U\";\"GT3\";\"T\";1;1;\"at_home\";\"other\";...                                                                                                                                                                                 \n",
              "2  GP;\"F\";15;\"U\";\"LE3\";\"T\";1;1;\"at_home\";\"other\";...                                                                                                                                                                                 \n",
              "3  GP;\"F\";15;\"U\";\"GT3\";\"T\";4;2;\"health\";\"services...                                                                                                                                                                                 \n",
              "4  GP;\"F\";16;\"U\";\"GT3\";\"T\";3;3;\"other\";\"other\";\"h...                                                                                                                                                                                 "
            ],
            "text/html": [
              "\n",
              "  <div id=\"df-9e89c4e5-eddd-4a99-862a-8c2f88d31efb\">\n",
              "    <div class=\"colab-df-container\">\n",
              "      <div>\n",
              "<style scoped>\n",
              "    .dataframe tbody tr th:only-of-type {\n",
              "        vertical-align: middle;\n",
              "    }\n",
              "\n",
              "    .dataframe tbody tr th {\n",
              "        vertical-align: top;\n",
              "    }\n",
              "\n",
              "    .dataframe thead th {\n",
              "        text-align: right;\n",
              "    }\n",
              "</style>\n",
              "<table border=\"1\" class=\"dataframe\">\n",
              "  <thead>\n",
              "    <tr style=\"text-align: right;\">\n",
              "      <th></th>\n",
              "      <th>school;sex;age;address;famsize;Pstatus;Medu;Fedu;Mjob;Fjob;reason;guardian;traveltime;studytime;failures;schoolsup;famsup;paid;activities;nursery;higher;internet;romantic;famrel;freetime;goout;Dalc;Walc;health;absences;G1;G2;G3</th>\n",
              "    </tr>\n",
              "  </thead>\n",
              "  <tbody>\n",
              "    <tr>\n",
              "      <th>0</th>\n",
              "      <td>GP;\"F\";18;\"U\";\"GT3\";\"A\";4;4;\"at_home\";\"teacher...</td>\n",
              "    </tr>\n",
              "    <tr>\n",
              "      <th>1</th>\n",
              "      <td>GP;\"F\";17;\"U\";\"GT3\";\"T\";1;1;\"at_home\";\"other\";...</td>\n",
              "    </tr>\n",
              "    <tr>\n",
              "      <th>2</th>\n",
              "      <td>GP;\"F\";15;\"U\";\"LE3\";\"T\";1;1;\"at_home\";\"other\";...</td>\n",
              "    </tr>\n",
              "    <tr>\n",
              "      <th>3</th>\n",
              "      <td>GP;\"F\";15;\"U\";\"GT3\";\"T\";4;2;\"health\";\"services...</td>\n",
              "    </tr>\n",
              "    <tr>\n",
              "      <th>4</th>\n",
              "      <td>GP;\"F\";16;\"U\";\"GT3\";\"T\";3;3;\"other\";\"other\";\"h...</td>\n",
              "    </tr>\n",
              "  </tbody>\n",
              "</table>\n",
              "</div>\n",
              "      <button class=\"colab-df-convert\" onclick=\"convertToInteractive('df-9e89c4e5-eddd-4a99-862a-8c2f88d31efb')\"\n",
              "              title=\"Convert this dataframe to an interactive table.\"\n",
              "              style=\"display:none;\">\n",
              "        \n",
              "  <svg xmlns=\"http://www.w3.org/2000/svg\" height=\"24px\"viewBox=\"0 0 24 24\"\n",
              "       width=\"24px\">\n",
              "    <path d=\"M0 0h24v24H0V0z\" fill=\"none\"/>\n",
              "    <path d=\"M18.56 5.44l.94 2.06.94-2.06 2.06-.94-2.06-.94-.94-2.06-.94 2.06-2.06.94zm-11 1L8.5 8.5l.94-2.06 2.06-.94-2.06-.94L8.5 2.5l-.94 2.06-2.06.94zm10 10l.94 2.06.94-2.06 2.06-.94-2.06-.94-.94-2.06-.94 2.06-2.06.94z\"/><path d=\"M17.41 7.96l-1.37-1.37c-.4-.4-.92-.59-1.43-.59-.52 0-1.04.2-1.43.59L10.3 9.45l-7.72 7.72c-.78.78-.78 2.05 0 2.83L4 21.41c.39.39.9.59 1.41.59.51 0 1.02-.2 1.41-.59l7.78-7.78 2.81-2.81c.8-.78.8-2.07 0-2.86zM5.41 20L4 18.59l7.72-7.72 1.47 1.35L5.41 20z\"/>\n",
              "  </svg>\n",
              "      </button>\n",
              "      \n",
              "  <style>\n",
              "    .colab-df-container {\n",
              "      display:flex;\n",
              "      flex-wrap:wrap;\n",
              "      gap: 12px;\n",
              "    }\n",
              "\n",
              "    .colab-df-convert {\n",
              "      background-color: #E8F0FE;\n",
              "      border: none;\n",
              "      border-radius: 50%;\n",
              "      cursor: pointer;\n",
              "      display: none;\n",
              "      fill: #1967D2;\n",
              "      height: 32px;\n",
              "      padding: 0 0 0 0;\n",
              "      width: 32px;\n",
              "    }\n",
              "\n",
              "    .colab-df-convert:hover {\n",
              "      background-color: #E2EBFA;\n",
              "      box-shadow: 0px 1px 2px rgba(60, 64, 67, 0.3), 0px 1px 3px 1px rgba(60, 64, 67, 0.15);\n",
              "      fill: #174EA6;\n",
              "    }\n",
              "\n",
              "    [theme=dark] .colab-df-convert {\n",
              "      background-color: #3B4455;\n",
              "      fill: #D2E3FC;\n",
              "    }\n",
              "\n",
              "    [theme=dark] .colab-df-convert:hover {\n",
              "      background-color: #434B5C;\n",
              "      box-shadow: 0px 1px 3px 1px rgba(0, 0, 0, 0.15);\n",
              "      filter: drop-shadow(0px 1px 2px rgba(0, 0, 0, 0.3));\n",
              "      fill: #FFFFFF;\n",
              "    }\n",
              "  </style>\n",
              "\n",
              "      <script>\n",
              "        const buttonEl =\n",
              "          document.querySelector('#df-9e89c4e5-eddd-4a99-862a-8c2f88d31efb button.colab-df-convert');\n",
              "        buttonEl.style.display =\n",
              "          google.colab.kernel.accessAllowed ? 'block' : 'none';\n",
              "\n",
              "        async function convertToInteractive(key) {\n",
              "          const element = document.querySelector('#df-9e89c4e5-eddd-4a99-862a-8c2f88d31efb');\n",
              "          const dataTable =\n",
              "            await google.colab.kernel.invokeFunction('convertToInteractive',\n",
              "                                                     [key], {});\n",
              "          if (!dataTable) return;\n",
              "\n",
              "          const docLinkHtml = 'Like what you see? Visit the ' +\n",
              "            '<a target=\"_blank\" href=https://colab.research.google.com/notebooks/data_table.ipynb>data table notebook</a>'\n",
              "            + ' to learn more about interactive tables.';\n",
              "          element.innerHTML = '';\n",
              "          dataTable['output_type'] = 'display_data';\n",
              "          await google.colab.output.renderOutput(dataTable, element);\n",
              "          const docLink = document.createElement('div');\n",
              "          docLink.innerHTML = docLinkHtml;\n",
              "          element.appendChild(docLink);\n",
              "        }\n",
              "      </script>\n",
              "    </div>\n",
              "  </div>\n",
              "  "
            ]
          },
          "metadata": {},
          "execution_count": 9
        }
      ]
    },
    {
      "cell_type": "markdown",
      "source": [
        "쉼표로 구분된 데이터 읽어 들이기\n",
        "\n",
        "위의 상태로는 데이터를 다루기 힘들다, CSV 파일은 쉼표로 데이터를 구분하는 것이 일반적이지만 다운로드한 데이터가 세미콜론(;)으로 구분되어 있기 때문에 read_csv의 파라미터로 sep='구문하는문자' 에 세미콜론을 입력하여 읽어 들인다."
      ],
      "metadata": {
        "id": "oaj5yMuK0U53"
      }
    },
    {
      "cell_type": "code",
      "source": [
        "# 데이터 읽어 들이기\n",
        "# 구분하는 기호로 ;가 붙어 있다는 점에 주의\n",
        "student_data_math = pd.read_csv('student-mat.csv', sep = ';')"
      ],
      "metadata": {
        "id": "NilJWPLL0umy"
      },
      "execution_count": 10,
      "outputs": []
    },
    {
      "cell_type": "code",
      "source": [
        "# 데이터 확인\n",
        "student_data_math.head()"
      ],
      "metadata": {
        "colab": {
          "base_uri": "https://localhost:8080/",
          "height": 235
        },
        "id": "pLkr6-Rp07bn",
        "outputId": "0e1fb415-2d95-4334-86ef-ee5b2a2cdf86"
      },
      "execution_count": 11,
      "outputs": [
        {
          "output_type": "execute_result",
          "data": {
            "text/plain": [
              "  school sex  age address famsize Pstatus  Medu  Fedu     Mjob      Fjob  ...  \\\n",
              "0     GP   F   18       U     GT3       A     4     4  at_home   teacher  ...   \n",
              "1     GP   F   17       U     GT3       T     1     1  at_home     other  ...   \n",
              "2     GP   F   15       U     LE3       T     1     1  at_home     other  ...   \n",
              "3     GP   F   15       U     GT3       T     4     2   health  services  ...   \n",
              "4     GP   F   16       U     GT3       T     3     3    other     other  ...   \n",
              "\n",
              "  famrel freetime  goout  Dalc  Walc health absences  G1  G2  G3  \n",
              "0      4        3      4     1     1      3        6   5   6   6  \n",
              "1      5        3      3     1     1      3        4   5   5   6  \n",
              "2      4        3      2     2     3      3       10   7   8  10  \n",
              "3      3        2      2     1     1      5        2  15  14  15  \n",
              "4      4        3      2     1     2      5        4   6  10  10  \n",
              "\n",
              "[5 rows x 33 columns]"
            ],
            "text/html": [
              "\n",
              "  <div id=\"df-8e69bc2c-49ad-4285-8d79-c177f197db28\">\n",
              "    <div class=\"colab-df-container\">\n",
              "      <div>\n",
              "<style scoped>\n",
              "    .dataframe tbody tr th:only-of-type {\n",
              "        vertical-align: middle;\n",
              "    }\n",
              "\n",
              "    .dataframe tbody tr th {\n",
              "        vertical-align: top;\n",
              "    }\n",
              "\n",
              "    .dataframe thead th {\n",
              "        text-align: right;\n",
              "    }\n",
              "</style>\n",
              "<table border=\"1\" class=\"dataframe\">\n",
              "  <thead>\n",
              "    <tr style=\"text-align: right;\">\n",
              "      <th></th>\n",
              "      <th>school</th>\n",
              "      <th>sex</th>\n",
              "      <th>age</th>\n",
              "      <th>address</th>\n",
              "      <th>famsize</th>\n",
              "      <th>Pstatus</th>\n",
              "      <th>Medu</th>\n",
              "      <th>Fedu</th>\n",
              "      <th>Mjob</th>\n",
              "      <th>Fjob</th>\n",
              "      <th>...</th>\n",
              "      <th>famrel</th>\n",
              "      <th>freetime</th>\n",
              "      <th>goout</th>\n",
              "      <th>Dalc</th>\n",
              "      <th>Walc</th>\n",
              "      <th>health</th>\n",
              "      <th>absences</th>\n",
              "      <th>G1</th>\n",
              "      <th>G2</th>\n",
              "      <th>G3</th>\n",
              "    </tr>\n",
              "  </thead>\n",
              "  <tbody>\n",
              "    <tr>\n",
              "      <th>0</th>\n",
              "      <td>GP</td>\n",
              "      <td>F</td>\n",
              "      <td>18</td>\n",
              "      <td>U</td>\n",
              "      <td>GT3</td>\n",
              "      <td>A</td>\n",
              "      <td>4</td>\n",
              "      <td>4</td>\n",
              "      <td>at_home</td>\n",
              "      <td>teacher</td>\n",
              "      <td>...</td>\n",
              "      <td>4</td>\n",
              "      <td>3</td>\n",
              "      <td>4</td>\n",
              "      <td>1</td>\n",
              "      <td>1</td>\n",
              "      <td>3</td>\n",
              "      <td>6</td>\n",
              "      <td>5</td>\n",
              "      <td>6</td>\n",
              "      <td>6</td>\n",
              "    </tr>\n",
              "    <tr>\n",
              "      <th>1</th>\n",
              "      <td>GP</td>\n",
              "      <td>F</td>\n",
              "      <td>17</td>\n",
              "      <td>U</td>\n",
              "      <td>GT3</td>\n",
              "      <td>T</td>\n",
              "      <td>1</td>\n",
              "      <td>1</td>\n",
              "      <td>at_home</td>\n",
              "      <td>other</td>\n",
              "      <td>...</td>\n",
              "      <td>5</td>\n",
              "      <td>3</td>\n",
              "      <td>3</td>\n",
              "      <td>1</td>\n",
              "      <td>1</td>\n",
              "      <td>3</td>\n",
              "      <td>4</td>\n",
              "      <td>5</td>\n",
              "      <td>5</td>\n",
              "      <td>6</td>\n",
              "    </tr>\n",
              "    <tr>\n",
              "      <th>2</th>\n",
              "      <td>GP</td>\n",
              "      <td>F</td>\n",
              "      <td>15</td>\n",
              "      <td>U</td>\n",
              "      <td>LE3</td>\n",
              "      <td>T</td>\n",
              "      <td>1</td>\n",
              "      <td>1</td>\n",
              "      <td>at_home</td>\n",
              "      <td>other</td>\n",
              "      <td>...</td>\n",
              "      <td>4</td>\n",
              "      <td>3</td>\n",
              "      <td>2</td>\n",
              "      <td>2</td>\n",
              "      <td>3</td>\n",
              "      <td>3</td>\n",
              "      <td>10</td>\n",
              "      <td>7</td>\n",
              "      <td>8</td>\n",
              "      <td>10</td>\n",
              "    </tr>\n",
              "    <tr>\n",
              "      <th>3</th>\n",
              "      <td>GP</td>\n",
              "      <td>F</td>\n",
              "      <td>15</td>\n",
              "      <td>U</td>\n",
              "      <td>GT3</td>\n",
              "      <td>T</td>\n",
              "      <td>4</td>\n",
              "      <td>2</td>\n",
              "      <td>health</td>\n",
              "      <td>services</td>\n",
              "      <td>...</td>\n",
              "      <td>3</td>\n",
              "      <td>2</td>\n",
              "      <td>2</td>\n",
              "      <td>1</td>\n",
              "      <td>1</td>\n",
              "      <td>5</td>\n",
              "      <td>2</td>\n",
              "      <td>15</td>\n",
              "      <td>14</td>\n",
              "      <td>15</td>\n",
              "    </tr>\n",
              "    <tr>\n",
              "      <th>4</th>\n",
              "      <td>GP</td>\n",
              "      <td>F</td>\n",
              "      <td>16</td>\n",
              "      <td>U</td>\n",
              "      <td>GT3</td>\n",
              "      <td>T</td>\n",
              "      <td>3</td>\n",
              "      <td>3</td>\n",
              "      <td>other</td>\n",
              "      <td>other</td>\n",
              "      <td>...</td>\n",
              "      <td>4</td>\n",
              "      <td>3</td>\n",
              "      <td>2</td>\n",
              "      <td>1</td>\n",
              "      <td>2</td>\n",
              "      <td>5</td>\n",
              "      <td>4</td>\n",
              "      <td>6</td>\n",
              "      <td>10</td>\n",
              "      <td>10</td>\n",
              "    </tr>\n",
              "  </tbody>\n",
              "</table>\n",
              "<p>5 rows × 33 columns</p>\n",
              "</div>\n",
              "      <button class=\"colab-df-convert\" onclick=\"convertToInteractive('df-8e69bc2c-49ad-4285-8d79-c177f197db28')\"\n",
              "              title=\"Convert this dataframe to an interactive table.\"\n",
              "              style=\"display:none;\">\n",
              "        \n",
              "  <svg xmlns=\"http://www.w3.org/2000/svg\" height=\"24px\"viewBox=\"0 0 24 24\"\n",
              "       width=\"24px\">\n",
              "    <path d=\"M0 0h24v24H0V0z\" fill=\"none\"/>\n",
              "    <path d=\"M18.56 5.44l.94 2.06.94-2.06 2.06-.94-2.06-.94-.94-2.06-.94 2.06-2.06.94zm-11 1L8.5 8.5l.94-2.06 2.06-.94-2.06-.94L8.5 2.5l-.94 2.06-2.06.94zm10 10l.94 2.06.94-2.06 2.06-.94-2.06-.94-.94-2.06-.94 2.06-2.06.94z\"/><path d=\"M17.41 7.96l-1.37-1.37c-.4-.4-.92-.59-1.43-.59-.52 0-1.04.2-1.43.59L10.3 9.45l-7.72 7.72c-.78.78-.78 2.05 0 2.83L4 21.41c.39.39.9.59 1.41.59.51 0 1.02-.2 1.41-.59l7.78-7.78 2.81-2.81c.8-.78.8-2.07 0-2.86zM5.41 20L4 18.59l7.72-7.72 1.47 1.35L5.41 20z\"/>\n",
              "  </svg>\n",
              "      </button>\n",
              "      \n",
              "  <style>\n",
              "    .colab-df-container {\n",
              "      display:flex;\n",
              "      flex-wrap:wrap;\n",
              "      gap: 12px;\n",
              "    }\n",
              "\n",
              "    .colab-df-convert {\n",
              "      background-color: #E8F0FE;\n",
              "      border: none;\n",
              "      border-radius: 50%;\n",
              "      cursor: pointer;\n",
              "      display: none;\n",
              "      fill: #1967D2;\n",
              "      height: 32px;\n",
              "      padding: 0 0 0 0;\n",
              "      width: 32px;\n",
              "    }\n",
              "\n",
              "    .colab-df-convert:hover {\n",
              "      background-color: #E2EBFA;\n",
              "      box-shadow: 0px 1px 2px rgba(60, 64, 67, 0.3), 0px 1px 3px 1px rgba(60, 64, 67, 0.15);\n",
              "      fill: #174EA6;\n",
              "    }\n",
              "\n",
              "    [theme=dark] .colab-df-convert {\n",
              "      background-color: #3B4455;\n",
              "      fill: #D2E3FC;\n",
              "    }\n",
              "\n",
              "    [theme=dark] .colab-df-convert:hover {\n",
              "      background-color: #434B5C;\n",
              "      box-shadow: 0px 1px 3px 1px rgba(0, 0, 0, 0.15);\n",
              "      filter: drop-shadow(0px 1px 2px rgba(0, 0, 0, 0.3));\n",
              "      fill: #FFFFFF;\n",
              "    }\n",
              "  </style>\n",
              "\n",
              "      <script>\n",
              "        const buttonEl =\n",
              "          document.querySelector('#df-8e69bc2c-49ad-4285-8d79-c177f197db28 button.colab-df-convert');\n",
              "        buttonEl.style.display =\n",
              "          google.colab.kernel.accessAllowed ? 'block' : 'none';\n",
              "\n",
              "        async function convertToInteractive(key) {\n",
              "          const element = document.querySelector('#df-8e69bc2c-49ad-4285-8d79-c177f197db28');\n",
              "          const dataTable =\n",
              "            await google.colab.kernel.invokeFunction('convertToInteractive',\n",
              "                                                     [key], {});\n",
              "          if (!dataTable) return;\n",
              "\n",
              "          const docLinkHtml = 'Like what you see? Visit the ' +\n",
              "            '<a target=\"_blank\" href=https://colab.research.google.com/notebooks/data_table.ipynb>data table notebook</a>'\n",
              "            + ' to learn more about interactive tables.';\n",
              "          element.innerHTML = '';\n",
              "          dataTable['output_type'] = 'display_data';\n",
              "          await google.colab.output.renderOutput(dataTable, element);\n",
              "          const docLink = document.createElement('div');\n",
              "          docLink.innerHTML = docLinkHtml;\n",
              "          element.appendChild(docLink);\n",
              "        }\n",
              "      </script>\n",
              "    </div>\n",
              "  </div>\n",
              "  "
            ]
          },
          "metadata": {},
          "execution_count": 11
        }
      ]
    },
    {
      "cell_type": "markdown",
      "source": [
        "read_csv는 sep 이외에도 몇 가지 파라미터가 있다. 구분 문자 말고도 데이터명(웹 주소 포함), 헤더 포함 여부를 지정할 수 있다."
      ],
      "metadata": {
        "id": "F7lauaxl1S8m"
      }
    },
    {
      "cell_type": "code",
      "source": [
        "?pd.read_csv"
      ],
      "metadata": {
        "id": "uUVzxznz1dDK"
      },
      "execution_count": 12,
      "outputs": []
    },
    {
      "cell_type": "markdown",
      "source": [
        "## 데이터 특성 파악"
      ],
      "metadata": {
        "id": "HpR182Ns1hBz"
      }
    },
    {
      "cell_type": "markdown",
      "source": [
        "**데이터 개수와 형을 확인: info()**"
      ],
      "metadata": {
        "id": "DxHApyE71kg9"
      }
    },
    {
      "cell_type": "code",
      "source": [
        "# 모든 칼럼 정보 등 확인\n",
        "student_data_math.info()"
      ],
      "metadata": {
        "colab": {
          "base_uri": "https://localhost:8080/"
        },
        "id": "fmN5uYEN1g2U",
        "outputId": "aaefd599-e3fd-4961-ae8b-988df2200273"
      },
      "execution_count": 13,
      "outputs": [
        {
          "output_type": "stream",
          "name": "stdout",
          "text": [
            "<class 'pandas.core.frame.DataFrame'>\n",
            "RangeIndex: 395 entries, 0 to 394\n",
            "Data columns (total 33 columns):\n",
            " #   Column      Non-Null Count  Dtype \n",
            "---  ------      --------------  ----- \n",
            " 0   school      395 non-null    object\n",
            " 1   sex         395 non-null    object\n",
            " 2   age         395 non-null    int64 \n",
            " 3   address     395 non-null    object\n",
            " 4   famsize     395 non-null    object\n",
            " 5   Pstatus     395 non-null    object\n",
            " 6   Medu        395 non-null    int64 \n",
            " 7   Fedu        395 non-null    int64 \n",
            " 8   Mjob        395 non-null    object\n",
            " 9   Fjob        395 non-null    object\n",
            " 10  reason      395 non-null    object\n",
            " 11  guardian    395 non-null    object\n",
            " 12  traveltime  395 non-null    int64 \n",
            " 13  studytime   395 non-null    int64 \n",
            " 14  failures    395 non-null    int64 \n",
            " 15  schoolsup   395 non-null    object\n",
            " 16  famsup      395 non-null    object\n",
            " 17  paid        395 non-null    object\n",
            " 18  activities  395 non-null    object\n",
            " 19  nursery     395 non-null    object\n",
            " 20  higher      395 non-null    object\n",
            " 21  internet    395 non-null    object\n",
            " 22  romantic    395 non-null    object\n",
            " 23  famrel      395 non-null    int64 \n",
            " 24  freetime    395 non-null    int64 \n",
            " 25  goout       395 non-null    int64 \n",
            " 26  Dalc        395 non-null    int64 \n",
            " 27  Walc        395 non-null    int64 \n",
            " 28  health      395 non-null    int64 \n",
            " 29  absences    395 non-null    int64 \n",
            " 30  G1          395 non-null    int64 \n",
            " 31  G2          395 non-null    int64 \n",
            " 32  G3          395 non-null    int64 \n",
            "dtypes: int64(16), object(17)\n",
            "memory usage: 102.0+ KB\n"
          ]
        }
      ]
    },
    {
      "cell_type": "markdown",
      "source": [
        "info 함수를 사용하면 모든 변수에 대해 null이 아닌 데이터의 개수나 변수의 형을 알 수 있다.\n",
        "\n",
        "데이터는 총 395개고, non-null은 null이 아닌 데이터를 의미한다. 모든 변수가 395 non-null이므로 null 데이터가 없다."
      ],
      "metadata": {
        "id": "_wuW-rTA1usj"
      }
    },
    {
      "cell_type": "markdown",
      "source": [
        "## 정량 데이터와 정성 데이터\n",
        "\n",
        "데이터를 살펴보면 수치형 데이터도 있고, 성별과 같은 속성 데이터도 있다.\n",
        "\n",
        "\n",
        "\n",
        "*   정량 데이터: 사칙연산이 가능한 연속적인 숫자로 표현할 수 있는 데이터. 비율이 의미를 가진다. 예) 사람 수 또는 금액 등\n",
        "*   정성 데이터: 사칙 연산이 불가능한 데이터, 상태를 표현하기 위해 이용된다. 예) 순위 또는 범주 등의 데이터\n",
        "\n"
      ],
      "metadata": {
        "id": "8NyJ03wp2kHB"
      }
    },
    {
      "cell_type": "code",
      "source": [
        "student_data_math.sex.head()"
      ],
      "metadata": {
        "colab": {
          "base_uri": "https://localhost:8080/"
        },
        "id": "dCDsO09m26VK",
        "outputId": "ac18f67c-4aae-420e-fe2e-0483c7eccb45"
      },
      "execution_count": 14,
      "outputs": [
        {
          "output_type": "execute_result",
          "data": {
            "text/plain": [
              "0    F\n",
              "1    F\n",
              "2    F\n",
              "3    F\n",
              "4    F\n",
              "Name: sex, dtype: object"
            ]
          },
          "metadata": {},
          "execution_count": 14
        }
      ]
    },
    {
      "cell_type": "markdown",
      "source": [
        "-> 성별은 수치화 되어있지 않고 비교도 불가능한 정성데이터다."
      ],
      "metadata": {
        "id": "CHz5dDsL3vma"
      }
    },
    {
      "cell_type": "code",
      "source": [
        "student_data_math['absences'].head()"
      ],
      "metadata": {
        "colab": {
          "base_uri": "https://localhost:8080/"
        },
        "id": "4PbEB7ci31In",
        "outputId": "46c0bfb3-3140-4148-d806-2821ef8bf529"
      },
      "execution_count": 15,
      "outputs": [
        {
          "output_type": "execute_result",
          "data": {
            "text/plain": [
              "0     6\n",
              "1     4\n",
              "2    10\n",
              "3     2\n",
              "4     4\n",
              "Name: absences, dtype: int64"
            ]
          },
          "metadata": {},
          "execution_count": 15
        }
      ]
    },
    {
      "cell_type": "markdown",
      "source": [
        "-> 정량 데이터"
      ],
      "metadata": {
        "id": "lrk5UvSK35S_"
      }
    },
    {
      "cell_type": "markdown",
      "source": [
        "**변수별 평균값 구하기**\n",
        "\n",
        "판다스를 이용해 성별을 기준으로  각 연령별 평균값을 계산해본다."
      ],
      "metadata": {
        "id": "RiaCNyt336ra"
      }
    },
    {
      "cell_type": "code",
      "source": [
        "student_data_math.groupby('sex')['age'].mean()"
      ],
      "metadata": {
        "colab": {
          "base_uri": "https://localhost:8080/"
        },
        "id": "4i5hEWZs4AtH",
        "outputId": "fcf2078a-6287-41bb-d18d-9d80a259eccd"
      },
      "execution_count": 16,
      "outputs": [
        {
          "output_type": "execute_result",
          "data": {
            "text/plain": [
              "sex\n",
              "F    16.730769\n",
              "M    16.657754\n",
              "Name: age, dtype: float64"
            ]
          },
          "metadata": {},
          "execution_count": 16
        }
      ]
    },
    {
      "cell_type": "code",
      "source": [
        "student_data_math.groupby('sex')['Dalc'].mean()"
      ],
      "metadata": {
        "colab": {
          "base_uri": "https://localhost:8080/"
        },
        "id": "7GK_jssm4XRS",
        "outputId": "3fdecaab-b6b2-45e7-ce9d-f08e54abc82e"
      },
      "execution_count": 17,
      "outputs": [
        {
          "output_type": "execute_result",
          "data": {
            "text/plain": [
              "sex\n",
              "F    1.254808\n",
              "M    1.732620\n",
              "Name: Dalc, dtype: float64"
            ]
          },
          "metadata": {},
          "execution_count": 17
        }
      ]
    },
    {
      "cell_type": "code",
      "source": [
        "student_data_math.groupby('sex')['G3'].mean()"
      ],
      "metadata": {
        "colab": {
          "base_uri": "https://localhost:8080/"
        },
        "id": "X-Yf8MaN4xGY",
        "outputId": "34982c81-7eca-420b-c1b0-6d5acc8ddf48"
      },
      "execution_count": 18,
      "outputs": [
        {
          "output_type": "execute_result",
          "data": {
            "text/plain": [
              "sex\n",
              "F     9.966346\n",
              "M    10.914439\n",
              "Name: G3, dtype: float64"
            ]
          },
          "metadata": {},
          "execution_count": 18
        }
      ]
    },
    {
      "cell_type": "markdown",
      "source": [
        "## 기술통계"
      ],
      "metadata": {
        "id": "iFdFE1Pm5C5S"
      }
    },
    {
      "cell_type": "markdown",
      "source": [
        "**히스토그램**\n"
      ],
      "metadata": {
        "id": "CAnK69uF5F16"
      }
    },
    {
      "cell_type": "code",
      "source": [
        "# histogram, 변수 데이터 지정\n",
        "plt.hist(student_data_math['absences'])\n",
        "\n",
        "# x축과 y축의 레이블 \n",
        "plt.xlabel('absences')\n",
        "plt.ylabel('count')\n",
        "\n",
        "plt.grid(True)"
      ],
      "metadata": {
        "colab": {
          "base_uri": "https://localhost:8080/",
          "height": 288
        },
        "id": "cvTAonlB5MgT",
        "outputId": "34679fa7-7683-4172-f469-446246668b88"
      },
      "execution_count": 19,
      "outputs": [
        {
          "output_type": "display_data",
          "data": {
            "text/plain": [
              "<Figure size 432x288 with 1 Axes>"
            ],
            "image/png": "[encoded data removed]"
          },
          "metadata": {
            "needs_background": "light"
          }
        }
      ]
    },
    {
      "cell_type": "markdown",
      "source": [
        "-> 0에서 10 사이에 데이터가 집중되어있고 70 잇아의 숫자도 보이는 '롱테일 분포'라는 것을 알 수 있다. (분포 그래프의 밑단이 완만하게 감소하는 형태)"
      ],
      "metadata": {
        "id": "90uNTU1i6ZEz"
      }
    },
    {
      "cell_type": "markdown",
      "source": [
        "## 평균, 중앙값, 최빈값\n",
        "\n",
        "히스토그램은 데이터의 전체적인 모습을 파악하는 데 부족함이 없지만 어떤 때 편향되는지에 대한 정보는 파악하기 어려워 객관성이 조금 부족하다."
      ],
      "metadata": {
        "id": "oB0aJpCH6leS"
      }
    },
    {
      "cell_type": "code",
      "source": [
        "# 평균값\n",
        "print('평균값: ', student_data_math['absences'].mean())\n",
        "\n",
        "# 중앙값\n",
        "print('중앙값: ', student_data_math['absences'].median())\n",
        "\n",
        "# 최빈값\n",
        "print('최빈값: ', student_data_math['absences'].mode())"
      ],
      "metadata": {
        "colab": {
          "base_uri": "https://localhost:8080/"
        },
        "id": "qJ0r4Mqq6uUc",
        "outputId": "fc7ceaa2-da0e-4d80-da8d-6c005fd51dba"
      },
      "execution_count": 20,
      "outputs": [
        {
          "output_type": "stream",
          "name": "stdout",
          "text": [
            "평균값:  5.708860759493671\n",
            "중앙값:  4.0\n",
            "최빈값:  0    0\n",
            "dtype: int64\n"
          ]
        }
      ]
    },
    {
      "cell_type": "markdown",
      "source": [
        "## 분산과 표준편차\n",
        "\n",
        "데이터가 흩어져 있는지 모여 있는지(평균값 주변에 몰려 있는지) 분산으로 확인할 수 있다. 값이 작을수록 데이터의 흩어진 정도가 작다는 의미다."
      ],
      "metadata": {
        "id": "5z2u0Dts7Enh"
      }
    },
    {
      "cell_type": "code",
      "source": [
        "# 분산\n",
        "student_data_math['absences'].var(ddof=0)"
      ],
      "metadata": {
        "colab": {
          "base_uri": "https://localhost:8080/"
        },
        "id": "hELcXBJ77MSE",
        "outputId": "2b0f063d-aea3-4338-c6ae-e24f42c2cccb"
      },
      "execution_count": 21,
      "outputs": [
        {
          "output_type": "execute_result",
          "data": {
            "text/plain": [
              "63.887"
            ]
          },
          "metadata": {},
          "execution_count": 21
        }
      ]
    },
    {
      "cell_type": "code",
      "source": [
        "# 표준편차\n",
        "student_data_math['absences'].std()"
      ],
      "metadata": {
        "colab": {
          "base_uri": "https://localhost:8080/"
        },
        "id": "c2xwDnPx7l5w",
        "outputId": "d86f7088-7aa1-4500-d95b-b199e3d3a640"
      },
      "execution_count": 22,
      "outputs": [
        {
          "output_type": "execute_result",
          "data": {
            "text/plain": [
              "8.003"
            ]
          },
          "metadata": {},
          "execution_count": 22
        }
      ]
    },
    {
      "cell_type": "code",
      "source": [
        "np.sqrt(student_data_math['absences'].var(ddof=0)) #제곱근은 np.sqrt로도 계산 가능"
      ],
      "metadata": {
        "colab": {
          "base_uri": "https://localhost:8080/"
        },
        "id": "Gpe2Q-8r76Oc",
        "outputId": "3ba0bbbe-9766-4817-f894-92128e66d024"
      },
      "execution_count": 23,
      "outputs": [
        {
          "output_type": "execute_result",
          "data": {
            "text/plain": [
              "7.993"
            ]
          },
          "metadata": {},
          "execution_count": 23
        }
      ]
    },
    {
      "cell_type": "markdown",
      "source": [
        "## 요약 통계량과 백분위수\n",
        "\n",
        "판다스로 읽어들인 DataFrame을 describe 메서드로 모든 통계량을 한번에 확인할 수 있다.\n",
        "\n",
        "describe 메서드: 데이터의 수, 평균값, 표준편차, 최솟값, 25, 50, 75% 백분위수값, 최댓값을 계산해준다."
      ],
      "metadata": {
        "id": "uhflgMpH8FL8"
      }
    },
    {
      "cell_type": "code",
      "source": [
        "# 요약 통게량\n",
        "student_data_math['absences'].describe()"
      ],
      "metadata": {
        "colab": {
          "base_uri": "https://localhost:8080/"
        },
        "id": "4h18mp46oyr_",
        "outputId": "65400ba6-1260-4fbc-a1ce-323ed7b79402"
      },
      "execution_count": 24,
      "outputs": [
        {
          "output_type": "execute_result",
          "data": {
            "text/plain": [
              "count    395.000000\n",
              "mean       5.708861\n",
              "std        8.003096\n",
              "min        0.000000\n",
              "25%        0.000000\n",
              "50%        4.000000\n",
              "75%        8.000000\n",
              "max       75.000000\n",
              "Name: absences, dtype: float64"
            ]
          },
          "metadata": {},
          "execution_count": 24
        }
      ]
    },
    {
      "cell_type": "markdown",
      "source": [
        "**사분위범위 구하기**\n",
        "\n",
        "describe 메서드 실행 결과는 Series 객체 형태다.\n",
        "\n",
        "각 원소 값은 describe()[인덱스 번호]로 추출 가능하다. \n",
        "\n",
        "예를 들어, mean 값은 describe()[1], 표준편차는 describe()[2]"
      ],
      "metadata": {
        "id": "lSnwqjA7o6p8"
      }
    },
    {
      "cell_type": "code",
      "source": [
        "# 사분위범위 (75% 백분위수 값 - 25% 백분위수 값)\n",
        "student_data_math['absences'].describe()[6] - student_data_math['absences'].describe()[4]"
      ],
      "metadata": {
        "colab": {
          "base_uri": "https://localhost:8080/"
        },
        "id": "ESD0mTi2pOk_",
        "outputId": "af730c4c-9c74-4edb-bdf4-a2ea22a884ff"
      },
      "execution_count": 28,
      "outputs": [
        {
          "output_type": "execute_result",
          "data": {
            "text/plain": [
              "8.000"
            ]
          },
          "metadata": {},
          "execution_count": 28
        }
      ]
    },
    {
      "cell_type": "markdown",
      "source": [
        "**모든 열을 대상으로 요약 통계량 구하기**\n",
        "\n",
        "describe 메서드로 열이나 원소를 지정하지 않고 실행하면 모든 정량 데이터의 요약 통계량을 구할 수 있다. 열을 교차해서 계산도 가능하다."
      ],
      "metadata": {
        "id": "-lHfqekrpiXr"
      }
    },
    {
      "cell_type": "code",
      "source": [
        "# 한꺼번에 요약 통계량 계산\n",
        "student_data_math.describe()"
      ],
      "metadata": {
        "colab": {
          "base_uri": "https://localhost:8080/",
          "height": 364
        },
        "id": "0lGTN3RMph1u",
        "outputId": "f5febbfd-fae8-45a3-ff30-ce7a97b7a98c"
      },
      "execution_count": 30,
      "outputs": [
        {
          "output_type": "execute_result",
          "data": {
            "text/plain": [
              "              age        Medu        Fedu  traveltime   studytime    failures  \\\n",
              "count  395.000000  395.000000  395.000000  395.000000  395.000000  395.000000   \n",
              "mean    16.696203    2.749367    2.521519    1.448101    2.035443    0.334177   \n",
              "std      1.276043    1.094735    1.088201    0.697505    0.839240    0.743651   \n",
              "min     15.000000    0.000000    0.000000    1.000000    1.000000    0.000000   \n",
              "25%     16.000000    2.000000    2.000000    1.000000    1.000000    0.000000   \n",
              "50%     17.000000    3.000000    2.000000    1.000000    2.000000    0.000000   \n",
              "75%     18.000000    4.000000    3.000000    2.000000    2.000000    0.000000   \n",
              "max     22.000000    4.000000    4.000000    4.000000    4.000000    3.000000   \n",
              "\n",
              "           famrel    freetime       goout        Dalc        Walc      health  \\\n",
              "count  395.000000  395.000000  395.000000  395.000000  395.000000  395.000000   \n",
              "mean     3.944304    3.235443    3.108861    1.481013    2.291139    3.554430   \n",
              "std      0.896659    0.998862    1.113278    0.890741    1.287897    1.390303   \n",
              "min      1.000000    1.000000    1.000000    1.000000    1.000000    1.000000   \n",
              "25%      4.000000    3.000000    2.000000    1.000000    1.000000    3.000000   \n",
              "50%      4.000000    3.000000    3.000000    1.000000    2.000000    4.000000   \n",
              "75%      5.000000    4.000000    4.000000    2.000000    3.000000    5.000000   \n",
              "max      5.000000    5.000000    5.000000    5.000000    5.000000    5.000000   \n",
              "\n",
              "         absences          G1          G2          G3  \n",
              "count  395.000000  395.000000  395.000000  395.000000  \n",
              "mean     5.708861   10.908861   10.713924   10.415190  \n",
              "std      8.003096    3.319195    3.761505    4.581443  \n",
              "min      0.000000    3.000000    0.000000    0.000000  \n",
              "25%      0.000000    8.000000    9.000000    8.000000  \n",
              "50%      4.000000   11.000000   11.000000   11.000000  \n",
              "75%      8.000000   13.000000   13.000000   14.000000  \n",
              "max     75.000000   19.000000   19.000000   20.000000  "
            ],
            "text/html": [
              "\n",
              "  <div id=\"df-1f0bf875-7b80-4708-b8be-dac7cb927ab0\">\n",
              "    <div class=\"colab-df-container\">\n",
              "      <div>\n",
              "<style scoped>\n",
              "    .dataframe tbody tr th:only-of-type {\n",
              "        vertical-align: middle;\n",
              "    }\n",
              "\n",
              "    .dataframe tbody tr th {\n",
              "        vertical-align: top;\n",
              "    }\n",
              "\n",
              "    .dataframe thead th {\n",
              "        text-align: right;\n",
              "    }\n",
              "</style>\n",
              "<table border=\"1\" class=\"dataframe\">\n",
              "  <thead>\n",
              "    <tr style=\"text-align: right;\">\n",
              "      <th></th>\n",
              "      <th>age</th>\n",
              "      <th>Medu</th>\n",
              "      <th>Fedu</th>\n",
              "      <th>traveltime</th>\n",
              "      <th>studytime</th>\n",
              "      <th>failures</th>\n",
              "      <th>famrel</th>\n",
              "      <th>freetime</th>\n",
              "      <th>goout</th>\n",
              "      <th>Dalc</th>\n",
              "      <th>Walc</th>\n",
              "      <th>health</th>\n",
              "      <th>absences</th>\n",
              "      <th>G1</th>\n",
              "      <th>G2</th>\n",
              "      <th>G3</th>\n",
              "    </tr>\n",
              "  </thead>\n",
              "  <tbody>\n",
              "    <tr>\n",
              "      <th>count</th>\n",
              "      <td>395.000000</td>\n",
              "      <td>395.000000</td>\n",
              "      <td>395.000000</td>\n",
              "      <td>395.000000</td>\n",
              "      <td>395.000000</td>\n",
              "      <td>395.000000</td>\n",
              "      <td>395.000000</td>\n",
              "      <td>395.000000</td>\n",
              "      <td>395.000000</td>\n",
              "      <td>395.000000</td>\n",
              "      <td>395.000000</td>\n",
              "      <td>395.000000</td>\n",
              "      <td>395.000000</td>\n",
              "      <td>395.000000</td>\n",
              "      <td>395.000000</td>\n",
              "      <td>395.000000</td>\n",
              "    </tr>\n",
              "    <tr>\n",
              "      <th>mean</th>\n",
              "      <td>16.696203</td>\n",
              "      <td>2.749367</td>\n",
              "      <td>2.521519</td>\n",
              "      <td>1.448101</td>\n",
              "      <td>2.035443</td>\n",
              "      <td>0.334177</td>\n",
              "      <td>3.944304</td>\n",
              "      <td>3.235443</td>\n",
              "      <td>3.108861</td>\n",
              "      <td>1.481013</td>\n",
              "      <td>2.291139</td>\n",
              "      <td>3.554430</td>\n",
              "      <td>5.708861</td>\n",
              "      <td>10.908861</td>\n",
              "      <td>10.713924</td>\n",
              "      <td>10.415190</td>\n",
              "    </tr>\n",
              "    <tr>\n",
              "      <th>std</th>\n",
              "      <td>1.276043</td>\n",
              "      <td>1.094735</td>\n",
              "      <td>1.088201</td>\n",
              "      <td>0.697505</td>\n",
              "      <td>0.839240</td>\n",
              "      <td>0.743651</td>\n",
              "      <td>0.896659</td>\n",
              "      <td>0.998862</td>\n",
              "      <td>1.113278</td>\n",
              "      <td>0.890741</td>\n",
              "      <td>1.287897</td>\n",
              "      <td>1.390303</td>\n",
              "      <td>8.003096</td>\n",
              "      <td>3.319195</td>\n",
              "      <td>3.761505</td>\n",
              "      <td>4.581443</td>\n",
              "    </tr>\n",
              "    <tr>\n",
              "      <th>min</th>\n",
              "      <td>15.000000</td>\n",
              "      <td>0.000000</td>\n",
              "      <td>0.000000</td>\n",
              "      <td>1.000000</td>\n",
              "      <td>1.000000</td>\n",
              "      <td>0.000000</td>\n",
              "      <td>1.000000</td>\n",
              "      <td>1.000000</td>\n",
              "      <td>1.000000</td>\n",
              "      <td>1.000000</td>\n",
              "      <td>1.000000</td>\n",
              "      <td>1.000000</td>\n",
              "      <td>0.000000</td>\n",
              "      <td>3.000000</td>\n",
              "      <td>0.000000</td>\n",
              "      <td>0.000000</td>\n",
              "    </tr>\n",
              "    <tr>\n",
              "      <th>25%</th>\n",
              "      <td>16.000000</td>\n",
              "      <td>2.000000</td>\n",
              "      <td>2.000000</td>\n",
              "      <td>1.000000</td>\n",
              "      <td>1.000000</td>\n",
              "      <td>0.000000</td>\n",
              "      <td>4.000000</td>\n",
              "      <td>3.000000</td>\n",
              "      <td>2.000000</td>\n",
              "      <td>1.000000</td>\n",
              "      <td>1.000000</td>\n",
              "      <td>3.000000</td>\n",
              "      <td>0.000000</td>\n",
              "      <td>8.000000</td>\n",
              "      <td>9.000000</td>\n",
              "      <td>8.000000</td>\n",
              "    </tr>\n",
              "    <tr>\n",
              "      <th>50%</th>\n",
              "      <td>17.000000</td>\n",
              "      <td>3.000000</td>\n",
              "      <td>2.000000</td>\n",
              "      <td>1.000000</td>\n",
              "      <td>2.000000</td>\n",
              "      <td>0.000000</td>\n",
              "      <td>4.000000</td>\n",
              "      <td>3.000000</td>\n",
              "      <td>3.000000</td>\n",
              "      <td>1.000000</td>\n",
              "      <td>2.000000</td>\n",
              "      <td>4.000000</td>\n",
              "      <td>4.000000</td>\n",
              "      <td>11.000000</td>\n",
              "      <td>11.000000</td>\n",
              "      <td>11.000000</td>\n",
              "    </tr>\n",
              "    <tr>\n",
              "      <th>75%</th>\n",
              "      <td>18.000000</td>\n",
              "      <td>4.000000</td>\n",
              "      <td>3.000000</td>\n",
              "      <td>2.000000</td>\n",
              "      <td>2.000000</td>\n",
              "      <td>0.000000</td>\n",
              "      <td>5.000000</td>\n",
              "      <td>4.000000</td>\n",
              "      <td>4.000000</td>\n",
              "      <td>2.000000</td>\n",
              "      <td>3.000000</td>\n",
              "      <td>5.000000</td>\n",
              "      <td>8.000000</td>\n",
              "      <td>13.000000</td>\n",
              "      <td>13.000000</td>\n",
              "      <td>14.000000</td>\n",
              "    </tr>\n",
              "    <tr>\n",
              "      <th>max</th>\n",
              "      <td>22.000000</td>\n",
              "      <td>4.000000</td>\n",
              "      <td>4.000000</td>\n",
              "      <td>4.000000</td>\n",
              "      <td>4.000000</td>\n",
              "      <td>3.000000</td>\n",
              "      <td>5.000000</td>\n",
              "      <td>5.000000</td>\n",
              "      <td>5.000000</td>\n",
              "      <td>5.000000</td>\n",
              "      <td>5.000000</td>\n",
              "      <td>5.000000</td>\n",
              "      <td>75.000000</td>\n",
              "      <td>19.000000</td>\n",
              "      <td>19.000000</td>\n",
              "      <td>20.000000</td>\n",
              "    </tr>\n",
              "  </tbody>\n",
              "</table>\n",
              "</div>\n",
              "      <button class=\"colab-df-convert\" onclick=\"convertToInteractive('df-1f0bf875-7b80-4708-b8be-dac7cb927ab0')\"\n",
              "              title=\"Convert this dataframe to an interactive table.\"\n",
              "              style=\"display:none;\">\n",
              "        \n",
              "  <svg xmlns=\"http://www.w3.org/2000/svg\" height=\"24px\"viewBox=\"0 0 24 24\"\n",
              "       width=\"24px\">\n",
              "    <path d=\"M0 0h24v24H0V0z\" fill=\"none\"/>\n",
              "    <path d=\"M18.56 5.44l.94 2.06.94-2.06 2.06-.94-2.06-.94-.94-2.06-.94 2.06-2.06.94zm-11 1L8.5 8.5l.94-2.06 2.06-.94-2.06-.94L8.5 2.5l-.94 2.06-2.06.94zm10 10l.94 2.06.94-2.06 2.06-.94-2.06-.94-.94-2.06-.94 2.06-2.06.94z\"/><path d=\"M17.41 7.96l-1.37-1.37c-.4-.4-.92-.59-1.43-.59-.52 0-1.04.2-1.43.59L10.3 9.45l-7.72 7.72c-.78.78-.78 2.05 0 2.83L4 21.41c.39.39.9.59 1.41.59.51 0 1.02-.2 1.41-.59l7.78-7.78 2.81-2.81c.8-.78.8-2.07 0-2.86zM5.41 20L4 18.59l7.72-7.72 1.47 1.35L5.41 20z\"/>\n",
              "  </svg>\n",
              "      </button>\n",
              "      \n",
              "  <style>\n",
              "    .colab-df-container {\n",
              "      display:flex;\n",
              "      flex-wrap:wrap;\n",
              "      gap: 12px;\n",
              "    }\n",
              "\n",
              "    .colab-df-convert {\n",
              "      background-color: #E8F0FE;\n",
              "      border: none;\n",
              "      border-radius: 50%;\n",
              "      cursor: pointer;\n",
              "      display: none;\n",
              "      fill: #1967D2;\n",
              "      height: 32px;\n",
              "      padding: 0 0 0 0;\n",
              "      width: 32px;\n",
              "    }\n",
              "\n",
              "    .colab-df-convert:hover {\n",
              "      background-color: #E2EBFA;\n",
              "      box-shadow: 0px 1px 2px rgba(60, 64, 67, 0.3), 0px 1px 3px 1px rgba(60, 64, 67, 0.15);\n",
              "      fill: #174EA6;\n",
              "    }\n",
              "\n",
              "    [theme=dark] .colab-df-convert {\n",
              "      background-color: #3B4455;\n",
              "      fill: #D2E3FC;\n",
              "    }\n",
              "\n",
              "    [theme=dark] .colab-df-convert:hover {\n",
              "      background-color: #434B5C;\n",
              "      box-shadow: 0px 1px 3px 1px rgba(0, 0, 0, 0.15);\n",
              "      filter: drop-shadow(0px 1px 2px rgba(0, 0, 0, 0.3));\n",
              "      fill: #FFFFFF;\n",
              "    }\n",
              "  </style>\n",
              "\n",
              "      <script>\n",
              "        const buttonEl =\n",
              "          document.querySelector('#df-1f0bf875-7b80-4708-b8be-dac7cb927ab0 button.colab-df-convert');\n",
              "        buttonEl.style.display =\n",
              "          google.colab.kernel.accessAllowed ? 'block' : 'none';\n",
              "\n",
              "        async function convertToInteractive(key) {\n",
              "          const element = document.querySelector('#df-1f0bf875-7b80-4708-b8be-dac7cb927ab0');\n",
              "          const dataTable =\n",
              "            await google.colab.kernel.invokeFunction('convertToInteractive',\n",
              "                                                     [key], {});\n",
              "          if (!dataTable) return;\n",
              "\n",
              "          const docLinkHtml = 'Like what you see? Visit the ' +\n",
              "            '<a target=\"_blank\" href=https://colab.research.google.com/notebooks/data_table.ipynb>data table notebook</a>'\n",
              "            + ' to learn more about interactive tables.';\n",
              "          element.innerHTML = '';\n",
              "          dataTable['output_type'] = 'display_data';\n",
              "          await google.colab.output.renderOutput(dataTable, element);\n",
              "          const docLink = document.createElement('div');\n",
              "          docLink.innerHTML = docLinkHtml;\n",
              "          element.appendChild(docLink);\n",
              "        }\n",
              "      </script>\n",
              "    </div>\n",
              "  </div>\n",
              "  "
            ]
          },
          "metadata": {},
          "execution_count": 30
        }
      ]
    },
    {
      "cell_type": "markdown",
      "source": [
        "**박스플롯 그래프**\n",
        "\n",
        "최댓값, 최솟값, 중앙값, 사분위 범위 등의 값을 그래프로 표시한다. 이때 사용하는 것이 박스플롯(box plot)이다."
      ],
      "metadata": {
        "id": "p5RoJaS-pxKT"
      }
    },
    {
      "cell_type": "markdown",
      "source": [
        "박스의 윗부분이 3분위수, 아래부분이 1분위수, 중앙의 선이 중앙값이다.\n",
        "\n",
        "박스에 이어진 선의 윗부분은 최댓값, 이어진 선의 아랫부분이 최솟값이다.\n",
        "\n",
        "이 그래프를 통해 데이터의 범위 등을 파악할 수 있다."
      ],
      "metadata": {
        "id": "PHkgD03IqKQf"
      }
    },
    {
      "cell_type": "code",
      "source": [
        "# 박스플롯: G1\n",
        "plt.boxplot(student_data_math['G1'])\n",
        "plt.grid(True)"
      ],
      "metadata": {
        "colab": {
          "base_uri": "https://localhost:8080/",
          "height": 268
        },
        "id": "2Ap-BKhJqAVl",
        "outputId": "d699b606-f6ca-4aec-cebb-93ece8fe88ca"
      },
      "execution_count": 31,
      "outputs": [
        {
          "output_type": "display_data",
          "data": {
            "text/plain": [
              "<Figure size 432x288 with 1 Axes>"
            ],
            "image/png": "[encoded data removed]"
          },
          "metadata": {
            "needs_background": "light"
          }
        }
      ]
    },
    {
      "cell_type": "code",
      "source": [
        "# 박스플롯: 결석일 수\n",
        "plt.boxplot(student_data_math['absences'])\n",
        "plt.grid(True)"
      ],
      "metadata": {
        "colab": {
          "base_uri": "https://localhost:8080/",
          "height": 268
        },
        "id": "hwKXkKK7qXak",
        "outputId": "29871fcd-acb1-4663-e7ba-93240961c205"
      },
      "execution_count": 32,
      "outputs": [
        {
          "output_type": "display_data",
          "data": {
            "text/plain": [
              "<Figure size 432x288 with 1 Axes>"
            ],
            "image/png": "[encoded data removed]"
          },
          "metadata": {
            "needs_background": "light"
          }
        }
      ]
    },
    {
      "cell_type": "markdown",
      "source": [
        "-> 데이터에 이상값이 있을 경우 일반적인 박스플롯의 범위에 포함되지 않는다."
      ],
      "metadata": {
        "id": "NeNrxtWxqjmw"
      }
    },
    {
      "cell_type": "markdown",
      "source": [
        "다음과 같이 여러 개의 박스플롯을 동시에 표시할 수도 있다."
      ],
      "metadata": {
        "id": "-jB9rWkoq-CE"
      }
    },
    {
      "cell_type": "code",
      "source": [
        "# 박스플롯: G1, G2, G3\n",
        "plt.boxplot([student_data_math['G1'], student_data_math['G2'], student_data_math['G3']])\n",
        "plt.grid(True)"
      ],
      "metadata": {
        "colab": {
          "base_uri": "https://localhost:8080/",
          "height": 268
        },
        "id": "zNpbK5Gfqv9g",
        "outputId": "9e633c5b-07ed-4dc4-b216-df4252a21c84"
      },
      "execution_count": 34,
      "outputs": [
        {
          "output_type": "display_data",
          "data": {
            "text/plain": [
              "<Figure size 432x288 with 1 Axes>"
            ],
            "image/png": "[encoded data removed]"
          },
          "metadata": {
            "needs_background": "light"
          }
        }
      ]
    },
    {
      "cell_type": "markdown",
      "source": [
        "## 변동계수(coefficient of variation, CV)\n",
        "\n",
        "측정 단위가 서로 다른 자료를 가지고 이것들을 단순 비교할 수 없다. 데이터의 크기가 다르면 측정 단위가 큰 쪽이 편차도 커지는 경향이 있기 때문이다. 예를 들어 주가와 금값의 표준편차를 직접 비교하는 것은 무의미하다. 2천 전후로 변화하는 코스피 지수와 5만원대에서 변동하는 금값의 표준편차는 크기가 다르기 때문이다. 그래서 등장한 것이 변동계수다. 이 값을 사용하면 크기에 상관없이 비교할 수 있다. 일반적으로 CV로 표기한다.\n",
        "\n",
        "**변동계수**: 표준편차를 평균값으로 나눈 값.\n"
      ],
      "metadata": {
        "id": "E7uVRNvOrSfX"
      }
    },
    {
      "cell_type": "code",
      "source": [
        "# 변동계수: 결석일 수\n",
        "student_data_math['absences'].std() / student_data_math['absences'].mean()"
      ],
      "metadata": {
        "colab": {
          "base_uri": "https://localhost:8080/"
        },
        "id": "d6F4FGo3sItD",
        "outputId": "e6c566cf-471e-4eac-9852-521b4bdd4bf3"
      },
      "execution_count": 35,
      "outputs": [
        {
          "output_type": "execute_result",
          "data": {
            "text/plain": [
              "1.402"
            ]
          },
          "metadata": {},
          "execution_count": 35
        }
      ]
    },
    {
      "cell_type": "markdown",
      "source": [
        "describe() 실행 결과에는 변동계수가 없기 때문에 다음과 같이 코드를 작성하면 한번에 같이 계산된다.\n",
        "\n",
        "판다스 또는 넘파이 DataFrame에서는 각 기준별로 한번에 계산된다."
      ],
      "metadata": {
        "id": "xbIxnIeWsVUQ"
      }
    },
    {
      "cell_type": "code",
      "source": [
        "student_data_math.std() / student_data_math.mean()"
      ],
      "metadata": {
        "colab": {
          "base_uri": "https://localhost:8080/"
        },
        "id": "DnDWvaldsfYa",
        "outputId": "1e447693-d1fe-4c72-e115-824d879d3a01"
      },
      "execution_count": 36,
      "outputs": [
        {
          "output_type": "stream",
          "name": "stderr",
          "text": [
            "/usr/local/lib/python3.7/dist-packages/ipykernel_launcher.py:1: FutureWarning: Dropping of nuisance columns in DataFrame reductions (with 'numeric_only=None') is deprecated; in a future version this will raise TypeError.  Select only valid columns before calling the reduction.\n",
            "  \"\"\"Entry point for launching an IPython kernel.\n"
          ]
        },
        {
          "output_type": "execute_result",
          "data": {
            "text/plain": [
              "age           0.076427\n",
              "Medu          0.398177\n",
              "Fedu          0.431565\n",
              "traveltime    0.481668\n",
              "studytime     0.412313\n",
              "failures      2.225319\n",
              "famrel        0.227330\n",
              "freetime      0.308725\n",
              "goout         0.358098\n",
              "Dalc          0.601441\n",
              "Walc          0.562121\n",
              "health        0.391147\n",
              "absences      1.401873\n",
              "G1            0.304266\n",
              "G2            0.351086\n",
              "G3            0.439881\n",
              "dtype: float64"
            ]
          },
          "metadata": {},
          "execution_count": 36
        }
      ]
    },
    {
      "cell_type": "markdown",
      "source": [
        "## 산점도와 상관계수\n",
        "\n",
        "앞에서는 기본적으로 변수 하나만 가지고 그래프나 통계량을 계산했다. 이제 변수 간의 관계를 살펴보기 위해 산점도와 상관계수를 알아본다.\n",
        "\n",
        "다음 산점도는 1학기 성적 G1과 최종학기 성적 G3과의 관계를 표시한다."
      ],
      "metadata": {
        "id": "NfOUD9hNsrc0"
      }
    },
    {
      "cell_type": "code",
      "source": [
        "# 산점도\n",
        "plt.plot(student_data_math['G1'], student_data_math['G3'], 'o')\n",
        "\n",
        "# 레이블\n",
        "plt.ylabel('G3 grade')\n",
        "plt.xlabel('G1 grade')\n",
        "plt.grid(True)"
      ],
      "metadata": {
        "colab": {
          "base_uri": "https://localhost:8080/",
          "height": 285
        },
        "id": "M0a9CRj2s989",
        "outputId": "c085362f-dd1a-458a-b16c-1afee32668d8"
      },
      "execution_count": 40,
      "outputs": [
        {
          "output_type": "display_data",
          "data": {
            "text/plain": [
              "<Figure size 432x288 with 1 Axes>"
            ],
            "image/png": "[encoded data removed]"
          },
          "metadata": {
            "needs_background": "light"
          }
        }
      ]
    },
    {
      "cell_type": "markdown",
      "source": [
        "처음부터 성적이 좋은 사람일수록 최종성적이 좋은 것은 당연하지만 그러한 경향성을 그래프로 확인할 수 있다."
      ],
      "metadata": {
        "id": "DNNQOtcptZ0R"
      }
    },
    {
      "cell_type": "markdown",
      "source": [
        "**공분산**\n",
        "\n",
        "두 변수 간의 관계를 수치화 한다. 지표로는 공분산(convariance)이 있다. 변수 두 개 이상의 분산을 계산할 때 사용된다.\n",
        "\n",
        "공분산: 두 변수 간 편차를 곱하고 그걸 평균 내어 계산한다.\n",
        "\n",
        "공분산 행렬은 cov 함수를 이용해 구할 수 있다."
      ],
      "metadata": {
        "id": "crs_8ITiy3Iy"
      }
    },
    {
      "cell_type": "code",
      "source": [
        "# 공분산 행렬\n",
        "np.cov(student_data_math['G1'], student_data_math['G3'])"
      ],
      "metadata": {
        "colab": {
          "base_uri": "https://localhost:8080/"
        },
        "id": "lHrwjQisy45b",
        "outputId": "35a33f52-810a-40c2-85b2-cdf4d7900001"
      },
      "execution_count": 41,
      "outputs": [
        {
          "output_type": "execute_result",
          "data": {
            "text/plain": [
              "array([[11.017, 12.188],\n",
              "       [12.188, 20.99 ]])"
            ]
          },
          "metadata": {},
          "execution_count": 41
        }
      ]
    },
    {
      "cell_type": "code",
      "source": [
        "# 분산\n",
        "print('G1의 분산: ', student_data_math['G1'].var())\n",
        "print('G3의 분산: ', student_data_math['G3'].var())"
      ],
      "metadata": {
        "colab": {
          "base_uri": "https://localhost:8080/"
        },
        "id": "JyTC6FBKFKUZ",
        "outputId": "cfd3cd51-7d09-4a89-8100-64ae3ada5fc8"
      },
      "execution_count": 43,
      "outputs": [
        {
          "output_type": "stream",
          "name": "stdout",
          "text": [
            "G1의 분산:  11.017053267364904\n",
            "G3의 분산:  20.989616397866733\n"
          ]
        }
      ]
    },
    {
      "cell_type": "markdown",
      "source": [
        "**상관계수**\n",
        "\n",
        "공분산은 수식 자체가 각 변수의 스케일과 단위에 의존적이다. 각 변수의 스케일에 대한 의존성을 없애기 위해 두 변수의 관계를 수치화한 것이 상관계수다.\n",
        "\n",
        "상관계수: 공분산을 각 변수의 표준편차로 나눈 값."
      ],
      "metadata": {
        "id": "LnwhkTLNGPP8"
      }
    },
    {
      "cell_type": "markdown",
      "source": [
        "상관계수는 -1부터 1사이의 값이며 1에 가까울수록 양의 상관관계, -1에 가까울수록 음의 상관관계가 있다."
      ],
      "metadata": {
        "id": "OBLRXPo1GpMl"
      }
    },
    {
      "cell_type": "code",
      "source": [
        "sp.stats.pearsonr(student_data_math['G1'], student_data_math['G3'])"
      ],
      "metadata": {
        "colab": {
          "base_uri": "https://localhost:8080/"
        },
        "id": "t4JRlcQAGoP-",
        "outputId": "970969ec-e1d7-47bd-ff35-097e28fa560a"
      },
      "execution_count": 46,
      "outputs": [
        {
          "output_type": "execute_result",
          "data": {
            "text/plain": [
              "(0.801, 0.000)"
            ]
          },
          "metadata": {},
          "execution_count": 46
        }
      ]
    },
    {
      "cell_type": "code",
      "source": [
        "# 상관행렬: 모든 변수 간의 조합에서 상관계수를 산출\n",
        "np.corrcoef([student_data_math['G1'], student_data_math['G3']])"
      ],
      "metadata": {
        "colab": {
          "base_uri": "https://localhost:8080/"
        },
        "id": "TCno3WH6IFko",
        "outputId": "4e0c8053-439b-486f-b789-828875bd2b3b"
      },
      "execution_count": 47,
      "outputs": [
        {
          "output_type": "execute_result",
          "data": {
            "text/plain": [
              "array([[1.   , 0.801],\n",
              "       [0.801, 1.   ]])"
            ]
          },
          "metadata": {},
          "execution_count": 47
        }
      ]
    },
    {
      "cell_type": "markdown",
      "source": [
        "## 모든 변수의 히스토그램과 산점도 그리기\n",
        "\n",
        "데이터의 통계 처리와 시각화 기능이 풍부한 씨본 라이브러리를 이용한다. 씨본의 pairplot을 사용하면 여러 변수 간의 관계를 한번에 확인할 수 있어 편하다."
      ],
      "metadata": {
        "id": "myBGqcc5ISwg"
      }
    },
    {
      "cell_type": "markdown",
      "source": [
        "앞의 데이터에서 음주량과 성적이 관게가 있는지 살펴본다.\n",
        "\n",
        "*   Dalc: 평일 음주량\n",
        "*   Wald: 주말 음주량\n",
        "*   G1: 1학기 성적\n",
        "*   G3: 최종 성적\n"
      ],
      "metadata": {
        "id": "C5eDwi4TInNG"
      }
    },
    {
      "cell_type": "code",
      "source": [
        "sns.pairplot(student_data_math[['Dalc', 'Walc', 'G1', 'G3']])\n",
        "plt.grid(True)"
      ],
      "metadata": {
        "colab": {
          "base_uri": "https://localhost:8080/",
          "height": 726
        },
        "id": "wgDoC2zyIXDg",
        "outputId": "cd4e546b-2fdf-46ac-8c73-5ae8b948b610"
      },
      "execution_count": 49,
      "outputs": [
        {
          "output_type": "display_data",
          "data": {
            "text/plain": [
              "<Figure size 720x720 with 20 Axes>"
            ],
            "image/png": "[encoded data removed]"
          },
          "metadata": {
            "needs_background": "light"
          }
        }
      ]
    },
    {
      "cell_type": "code",
      "source": [
        "# 예: 주말에 술을 마시는 사람의 1학기 성적 평균값\n",
        "student_data_math.groupby('Walc')['G1'].mean()"
      ],
      "metadata": {
        "colab": {
          "base_uri": "https://localhost:8080/"
        },
        "id": "2N_OzkgWJZB6",
        "outputId": "a0f3fc8a-1fb7-4063-cd02-fed0b07d39b6"
      },
      "execution_count": 50,
      "outputs": [
        {
          "output_type": "execute_result",
          "data": {
            "text/plain": [
              "Walc\n",
              "1    11.178808\n",
              "2    11.270588\n",
              "3    10.937500\n",
              "4     9.980392\n",
              "5     9.964286\n",
              "Name: G1, dtype: float64"
            ]
          },
          "metadata": {},
          "execution_count": 50
        }
      ]
    },
    {
      "cell_type": "markdown",
      "source": [
        "\n",
        "\n",
        "---\n",
        "\n"
      ],
      "metadata": {
        "id": "00RFfn9ZJvWN"
      }
    },
    {
      "cell_type": "markdown",
      "source": [
        "# 연습문제"
      ],
      "metadata": {
        "id": "gZwZT7XVJwYX"
      }
    },
    {
      "cell_type": "markdown",
      "source": [
        "1. 다운로드한 포르투갈어 성적 데이터 student-por.csv의 요약 통계량을 계산하세요.\n"
      ],
      "metadata": {
        "id": "0G5_o3vVJ4LT"
      }
    },
    {
      "cell_type": "code",
      "source": [
        "por_data = pd.read_csv('student-por.csv', sep = ';' )\n",
        "por_data.describe()"
      ],
      "metadata": {
        "colab": {
          "base_uri": "https://localhost:8080/",
          "height": 364
        },
        "id": "Rpo6CcFkJ3s1",
        "outputId": "285b9c23-8509-4a44-ad6b-33467b002d10"
      },
      "execution_count": 68,
      "outputs": [
        {
          "output_type": "execute_result",
          "data": {
            "text/plain": [
              "              age        Medu        Fedu  traveltime   studytime    failures  \\\n",
              "count  649.000000  649.000000  649.000000  649.000000  649.000000  649.000000   \n",
              "mean    16.744222    2.514638    2.306626    1.568567    1.930663    0.221880   \n",
              "std      1.218138    1.134552    1.099931    0.748660    0.829510    0.593235   \n",
              "min     15.000000    0.000000    0.000000    1.000000    1.000000    0.000000   \n",
              "25%     16.000000    2.000000    1.000000    1.000000    1.000000    0.000000   \n",
              "50%     17.000000    2.000000    2.000000    1.000000    2.000000    0.000000   \n",
              "75%     18.000000    4.000000    3.000000    2.000000    2.000000    0.000000   \n",
              "max     22.000000    4.000000    4.000000    4.000000    4.000000    3.000000   \n",
              "\n",
              "           famrel    freetime       goout        Dalc        Walc      health  \\\n",
              "count  649.000000  649.000000  649.000000  649.000000  649.000000  649.000000   \n",
              "mean     3.930663    3.180277    3.184900    1.502311    2.280431    3.536210   \n",
              "std      0.955717    1.051093    1.175766    0.924834    1.284380    1.446259   \n",
              "min      1.000000    1.000000    1.000000    1.000000    1.000000    1.000000   \n",
              "25%      4.000000    3.000000    2.000000    1.000000    1.000000    2.000000   \n",
              "50%      4.000000    3.000000    3.000000    1.000000    2.000000    4.000000   \n",
              "75%      5.000000    4.000000    4.000000    2.000000    3.000000    5.000000   \n",
              "max      5.000000    5.000000    5.000000    5.000000    5.000000    5.000000   \n",
              "\n",
              "         absences          G1          G2          G3  \n",
              "count  649.000000  649.000000  649.000000  649.000000  \n",
              "mean     3.659476   11.399076   11.570108   11.906009  \n",
              "std      4.640759    2.745265    2.913639    3.230656  \n",
              "min      0.000000    0.000000    0.000000    0.000000  \n",
              "25%      0.000000   10.000000   10.000000   10.000000  \n",
              "50%      2.000000   11.000000   11.000000   12.000000  \n",
              "75%      6.000000   13.000000   13.000000   14.000000  \n",
              "max     32.000000   19.000000   19.000000   19.000000  "
            ],
            "text/html": [
              "\n",
              "  <div id=\"df-8e3d763f-036b-4bef-ab65-e24fac19c0c6\">\n",
              "    <div class=\"colab-df-container\">\n",
              "      <div>\n",
              "<style scoped>\n",
              "    .dataframe tbody tr th:only-of-type {\n",
              "        vertical-align: middle;\n",
              "    }\n",
              "\n",
              "    .dataframe tbody tr th {\n",
              "        vertical-align: top;\n",
              "    }\n",
              "\n",
              "    .dataframe thead th {\n",
              "        text-align: right;\n",
              "    }\n",
              "</style>\n",
              "<table border=\"1\" class=\"dataframe\">\n",
              "  <thead>\n",
              "    <tr style=\"text-align: right;\">\n",
              "      <th></th>\n",
              "      <th>age</th>\n",
              "      <th>Medu</th>\n",
              "      <th>Fedu</th>\n",
              "      <th>traveltime</th>\n",
              "      <th>studytime</th>\n",
              "      <th>failures</th>\n",
              "      <th>famrel</th>\n",
              "      <th>freetime</th>\n",
              "      <th>goout</th>\n",
              "      <th>Dalc</th>\n",
              "      <th>Walc</th>\n",
              "      <th>health</th>\n",
              "      <th>absences</th>\n",
              "      <th>G1</th>\n",
              "      <th>G2</th>\n",
              "      <th>G3</th>\n",
              "    </tr>\n",
              "  </thead>\n",
              "  <tbody>\n",
              "    <tr>\n",
              "      <th>count</th>\n",
              "      <td>649.000000</td>\n",
              "      <td>649.000000</td>\n",
              "      <td>649.000000</td>\n",
              "      <td>649.000000</td>\n",
              "      <td>649.000000</td>\n",
              "      <td>649.000000</td>\n",
              "      <td>649.000000</td>\n",
              "      <td>649.000000</td>\n",
              "      <td>649.000000</td>\n",
              "      <td>649.000000</td>\n",
              "      <td>649.000000</td>\n",
              "      <td>649.000000</td>\n",
              "      <td>649.000000</td>\n",
              "      <td>649.000000</td>\n",
              "      <td>649.000000</td>\n",
              "      <td>649.000000</td>\n",
              "    </tr>\n",
              "    <tr>\n",
              "      <th>mean</th>\n",
              "      <td>16.744222</td>\n",
              "      <td>2.514638</td>\n",
              "      <td>2.306626</td>\n",
              "      <td>1.568567</td>\n",
              "      <td>1.930663</td>\n",
              "      <td>0.221880</td>\n",
              "      <td>3.930663</td>\n",
              "      <td>3.180277</td>\n",
              "      <td>3.184900</td>\n",
              "      <td>1.502311</td>\n",
              "      <td>2.280431</td>\n",
              "      <td>3.536210</td>\n",
              "      <td>3.659476</td>\n",
              "      <td>11.399076</td>\n",
              "      <td>11.570108</td>\n",
              "      <td>11.906009</td>\n",
              "    </tr>\n",
              "    <tr>\n",
              "      <th>std</th>\n",
              "      <td>1.218138</td>\n",
              "      <td>1.134552</td>\n",
              "      <td>1.099931</td>\n",
              "      <td>0.748660</td>\n",
              "      <td>0.829510</td>\n",
              "      <td>0.593235</td>\n",
              "      <td>0.955717</td>\n",
              "      <td>1.051093</td>\n",
              "      <td>1.175766</td>\n",
              "      <td>0.924834</td>\n",
              "      <td>1.284380</td>\n",
              "      <td>1.446259</td>\n",
              "      <td>4.640759</td>\n",
              "      <td>2.745265</td>\n",
              "      <td>2.913639</td>\n",
              "      <td>3.230656</td>\n",
              "    </tr>\n",
              "    <tr>\n",
              "      <th>min</th>\n",
              "      <td>15.000000</td>\n",
              "      <td>0.000000</td>\n",
              "      <td>0.000000</td>\n",
              "      <td>1.000000</td>\n",
              "      <td>1.000000</td>\n",
              "      <td>0.000000</td>\n",
              "      <td>1.000000</td>\n",
              "      <td>1.000000</td>\n",
              "      <td>1.000000</td>\n",
              "      <td>1.000000</td>\n",
              "      <td>1.000000</td>\n",
              "      <td>1.000000</td>\n",
              "      <td>0.000000</td>\n",
              "      <td>0.000000</td>\n",
              "      <td>0.000000</td>\n",
              "      <td>0.000000</td>\n",
              "    </tr>\n",
              "    <tr>\n",
              "      <th>25%</th>\n",
              "      <td>16.000000</td>\n",
              "      <td>2.000000</td>\n",
              "      <td>1.000000</td>\n",
              "      <td>1.000000</td>\n",
              "      <td>1.000000</td>\n",
              "      <td>0.000000</td>\n",
              "      <td>4.000000</td>\n",
              "      <td>3.000000</td>\n",
              "      <td>2.000000</td>\n",
              "      <td>1.000000</td>\n",
              "      <td>1.000000</td>\n",
              "      <td>2.000000</td>\n",
              "      <td>0.000000</td>\n",
              "      <td>10.000000</td>\n",
              "      <td>10.000000</td>\n",
              "      <td>10.000000</td>\n",
              "    </tr>\n",
              "    <tr>\n",
              "      <th>50%</th>\n",
              "      <td>17.000000</td>\n",
              "      <td>2.000000</td>\n",
              "      <td>2.000000</td>\n",
              "      <td>1.000000</td>\n",
              "      <td>2.000000</td>\n",
              "      <td>0.000000</td>\n",
              "      <td>4.000000</td>\n",
              "      <td>3.000000</td>\n",
              "      <td>3.000000</td>\n",
              "      <td>1.000000</td>\n",
              "      <td>2.000000</td>\n",
              "      <td>4.000000</td>\n",
              "      <td>2.000000</td>\n",
              "      <td>11.000000</td>\n",
              "      <td>11.000000</td>\n",
              "      <td>12.000000</td>\n",
              "    </tr>\n",
              "    <tr>\n",
              "      <th>75%</th>\n",
              "      <td>18.000000</td>\n",
              "      <td>4.000000</td>\n",
              "      <td>3.000000</td>\n",
              "      <td>2.000000</td>\n",
              "      <td>2.000000</td>\n",
              "      <td>0.000000</td>\n",
              "      <td>5.000000</td>\n",
              "      <td>4.000000</td>\n",
              "      <td>4.000000</td>\n",
              "      <td>2.000000</td>\n",
              "      <td>3.000000</td>\n",
              "      <td>5.000000</td>\n",
              "      <td>6.000000</td>\n",
              "      <td>13.000000</td>\n",
              "      <td>13.000000</td>\n",
              "      <td>14.000000</td>\n",
              "    </tr>\n",
              "    <tr>\n",
              "      <th>max</th>\n",
              "      <td>22.000000</td>\n",
              "      <td>4.000000</td>\n",
              "      <td>4.000000</td>\n",
              "      <td>4.000000</td>\n",
              "      <td>4.000000</td>\n",
              "      <td>3.000000</td>\n",
              "      <td>5.000000</td>\n",
              "      <td>5.000000</td>\n",
              "      <td>5.000000</td>\n",
              "      <td>5.000000</td>\n",
              "      <td>5.000000</td>\n",
              "      <td>5.000000</td>\n",
              "      <td>32.000000</td>\n",
              "      <td>19.000000</td>\n",
              "      <td>19.000000</td>\n",
              "      <td>19.000000</td>\n",
              "    </tr>\n",
              "  </tbody>\n",
              "</table>\n",
              "</div>\n",
              "      <button class=\"colab-df-convert\" onclick=\"convertToInteractive('df-8e3d763f-036b-4bef-ab65-e24fac19c0c6')\"\n",
              "              title=\"Convert this dataframe to an interactive table.\"\n",
              "              style=\"display:none;\">\n",
              "        \n",
              "  <svg xmlns=\"http://www.w3.org/2000/svg\" height=\"24px\"viewBox=\"0 0 24 24\"\n",
              "       width=\"24px\">\n",
              "    <path d=\"M0 0h24v24H0V0z\" fill=\"none\"/>\n",
              "    <path d=\"M18.56 5.44l.94 2.06.94-2.06 2.06-.94-2.06-.94-.94-2.06-.94 2.06-2.06.94zm-11 1L8.5 8.5l.94-2.06 2.06-.94-2.06-.94L8.5 2.5l-.94 2.06-2.06.94zm10 10l.94 2.06.94-2.06 2.06-.94-2.06-.94-.94-2.06-.94 2.06-2.06.94z\"/><path d=\"M17.41 7.96l-1.37-1.37c-.4-.4-.92-.59-1.43-.59-.52 0-1.04.2-1.43.59L10.3 9.45l-7.72 7.72c-.78.78-.78 2.05 0 2.83L4 21.41c.39.39.9.59 1.41.59.51 0 1.02-.2 1.41-.59l7.78-7.78 2.81-2.81c.8-.78.8-2.07 0-2.86zM5.41 20L4 18.59l7.72-7.72 1.47 1.35L5.41 20z\"/>\n",
              "  </svg>\n",
              "      </button>\n",
              "      \n",
              "  <style>\n",
              "    .colab-df-container {\n",
              "      display:flex;\n",
              "      flex-wrap:wrap;\n",
              "      gap: 12px;\n",
              "    }\n",
              "\n",
              "    .colab-df-convert {\n",
              "      background-color: #E8F0FE;\n",
              "      border: none;\n",
              "      border-radius: 50%;\n",
              "      cursor: pointer;\n",
              "      display: none;\n",
              "      fill: #1967D2;\n",
              "      height: 32px;\n",
              "      padding: 0 0 0 0;\n",
              "      width: 32px;\n",
              "    }\n",
              "\n",
              "    .colab-df-convert:hover {\n",
              "      background-color: #E2EBFA;\n",
              "      box-shadow: 0px 1px 2px rgba(60, 64, 67, 0.3), 0px 1px 3px 1px rgba(60, 64, 67, 0.15);\n",
              "      fill: #174EA6;\n",
              "    }\n",
              "\n",
              "    [theme=dark] .colab-df-convert {\n",
              "      background-color: #3B4455;\n",
              "      fill: #D2E3FC;\n",
              "    }\n",
              "\n",
              "    [theme=dark] .colab-df-convert:hover {\n",
              "      background-color: #434B5C;\n",
              "      box-shadow: 0px 1px 3px 1px rgba(0, 0, 0, 0.15);\n",
              "      filter: drop-shadow(0px 1px 2px rgba(0, 0, 0, 0.3));\n",
              "      fill: #FFFFFF;\n",
              "    }\n",
              "  </style>\n",
              "\n",
              "      <script>\n",
              "        const buttonEl =\n",
              "          document.querySelector('#df-8e3d763f-036b-4bef-ab65-e24fac19c0c6 button.colab-df-convert');\n",
              "        buttonEl.style.display =\n",
              "          google.colab.kernel.accessAllowed ? 'block' : 'none';\n",
              "\n",
              "        async function convertToInteractive(key) {\n",
              "          const element = document.querySelector('#df-8e3d763f-036b-4bef-ab65-e24fac19c0c6');\n",
              "          const dataTable =\n",
              "            await google.colab.kernel.invokeFunction('convertToInteractive',\n",
              "                                                     [key], {});\n",
              "          if (!dataTable) return;\n",
              "\n",
              "          const docLinkHtml = 'Like what you see? Visit the ' +\n",
              "            '<a target=\"_blank\" href=https://colab.research.google.com/notebooks/data_table.ipynb>data table notebook</a>'\n",
              "            + ' to learn more about interactive tables.';\n",
              "          element.innerHTML = '';\n",
              "          dataTable['output_type'] = 'display_data';\n",
              "          await google.colab.output.renderOutput(dataTable, element);\n",
              "          const docLink = document.createElement('div');\n",
              "          docLink.innerHTML = docLinkHtml;\n",
              "          element.appendChild(docLink);\n",
              "        }\n",
              "      </script>\n",
              "    </div>\n",
              "  </div>\n",
              "  "
            ]
          },
          "metadata": {},
          "execution_count": 68
        }
      ]
    },
    {
      "cell_type": "markdown",
      "source": [
        "-> cd 명령어로 student-mat.csv가 있는 디렉터리로 이동하고 코드 실행"
      ],
      "metadata": {
        "id": "bg3i4dqELTeC"
      }
    },
    {
      "cell_type": "markdown",
      "source": [
        "2. 아래의 변수를 키 값으로 수학 데이터와 포르투칼어 데이터를 결합하세요. 결합할 때는 양쪽 데이터에 모두 포함된 데이터를 대상으로 하세요(내부결합) </br> 결합 후 요약통계량 등을 계산하세요. </br> 아래의 변수명은 각 데이터에 동일한 변수명이 있어 중복되므로 suffixes = ('_math', '_por') 파라미터를 추가해 어느 쪽 데이터인지 알 수 있도록 구분하세요."
      ],
      "metadata": {
        "id": "kC-rUaZLLnrP"
      }
    },
    {
      "cell_type": "markdown",
      "source": [
        "['school', 'sex', 'age', 'address', 'famsize', 'Pstatus', 'Medu', 'Fedu', 'Mjob', 'Fjob', 'reason', 'nursery', 'internet']"
      ],
      "metadata": {
        "id": "3fxY8lLDMQwM"
      }
    },
    {
      "cell_type": "code",
      "source": [
        "math_data = pd.read_csv('student-mat.csv', sep = ';' )\n",
        "data_merge = pd.merge(math_data, por_data, on = ['school', 'sex', 'age', 'address', 'famsize', 'Pstatus', 'Medu', 'Fedu', 'Mjob', 'Fjob', 'reason', 'nursery', 'internet'],\n",
        "                      suffixes = ('_math', '_por'))\n",
        "\n",
        "data_merge.describe()"
      ],
      "metadata": {
        "colab": {
          "base_uri": "https://localhost:8080/",
          "height": 394
        },
        "id": "r5mrYwNPL9P5",
        "outputId": "64e35f1f-30fd-4372-90fb-99cdccec13ec"
      },
      "execution_count": 76,
      "outputs": [
        {
          "output_type": "execute_result",
          "data": {
            "text/plain": [
              "              age        Medu        Fedu  traveltime_math  studytime_math  \\\n",
              "count  382.000000  382.000000  382.000000       382.000000      382.000000   \n",
              "mean    16.586387    2.806283    2.565445         1.442408        2.034031   \n",
              "std      1.173470    1.086381    1.096240         0.695378        0.845798   \n",
              "min     15.000000    0.000000    0.000000         1.000000        1.000000   \n",
              "25%     16.000000    2.000000    2.000000         1.000000        1.000000   \n",
              "50%     17.000000    3.000000    3.000000         1.000000        2.000000   \n",
              "75%     17.000000    4.000000    4.000000         2.000000        2.000000   \n",
              "max     22.000000    4.000000    4.000000         4.000000        4.000000   \n",
              "\n",
              "       failures_math  famrel_math  freetime_math  goout_math   Dalc_math  ...  \\\n",
              "count     382.000000   382.000000     382.000000  382.000000  382.000000  ...   \n",
              "mean        0.290576     3.939791       3.222513    3.112565    1.473822  ...   \n",
              "std         0.729481     0.921620       0.988233    1.131927    0.886229  ...   \n",
              "min         0.000000     1.000000       1.000000    1.000000    1.000000  ...   \n",
              "25%         0.000000     4.000000       3.000000    2.000000    1.000000  ...   \n",
              "50%         0.000000     4.000000       3.000000    3.000000    1.000000  ...   \n",
              "75%         0.000000     5.000000       4.000000    4.000000    2.000000  ...   \n",
              "max         3.000000     5.000000       5.000000    5.000000    5.000000  ...   \n",
              "\n",
              "       famrel_por  freetime_por   goout_por    Dalc_por    Walc_por  \\\n",
              "count  382.000000    382.000000  382.000000  382.000000  382.000000   \n",
              "mean     3.942408      3.230366    3.117801    1.476440    2.290576   \n",
              "std      0.908884      0.985096    1.133710    0.886303    1.282577   \n",
              "min      1.000000      1.000000    1.000000    1.000000    1.000000   \n",
              "25%      4.000000      3.000000    2.000000    1.000000    1.000000   \n",
              "50%      4.000000      3.000000    3.000000    1.000000    2.000000   \n",
              "75%      5.000000      4.000000    4.000000    2.000000    3.000000   \n",
              "max      5.000000      5.000000    5.000000    5.000000    5.000000   \n",
              "\n",
              "       health_por  absences_por      G1_por      G2_por      G3_por  \n",
              "count  382.000000    382.000000  382.000000  382.000000  382.000000  \n",
              "mean     3.575916      3.672775   12.112565   12.238220   12.515707  \n",
              "std      1.404248      4.905965    2.556531    2.468341    2.945438  \n",
              "min      1.000000      0.000000    0.000000    5.000000    0.000000  \n",
              "25%      3.000000      0.000000   10.000000   11.000000   11.000000  \n",
              "50%      4.000000      2.000000   12.000000   12.000000   13.000000  \n",
              "75%      5.000000      6.000000   14.000000   14.000000   14.000000  \n",
              "max      5.000000     32.000000   19.000000   19.000000   19.000000  \n",
              "\n",
              "[8 rows x 29 columns]"
            ],
            "text/html": [
              "\n",
              "  <div id=\"df-9fabe81e-0dda-447a-ad0f-376b73b1c89d\">\n",
              "    <div class=\"colab-df-container\">\n",
              "      <div>\n",
              "<style scoped>\n",
              "    .dataframe tbody tr th:only-of-type {\n",
              "        vertical-align: middle;\n",
              "    }\n",
              "\n",
              "    .dataframe tbody tr th {\n",
              "        vertical-align: top;\n",
              "    }\n",
              "\n",
              "    .dataframe thead th {\n",
              "        text-align: right;\n",
              "    }\n",
              "</style>\n",
              "<table border=\"1\" class=\"dataframe\">\n",
              "  <thead>\n",
              "    <tr style=\"text-align: right;\">\n",
              "      <th></th>\n",
              "      <th>age</th>\n",
              "      <th>Medu</th>\n",
              "      <th>Fedu</th>\n",
              "      <th>traveltime_math</th>\n",
              "      <th>studytime_math</th>\n",
              "      <th>failures_math</th>\n",
              "      <th>famrel_math</th>\n",
              "      <th>freetime_math</th>\n",
              "      <th>goout_math</th>\n",
              "      <th>Dalc_math</th>\n",
              "      <th>...</th>\n",
              "      <th>famrel_por</th>\n",
              "      <th>freetime_por</th>\n",
              "      <th>goout_por</th>\n",
              "      <th>Dalc_por</th>\n",
              "      <th>Walc_por</th>\n",
              "      <th>health_por</th>\n",
              "      <th>absences_por</th>\n",
              "      <th>G1_por</th>\n",
              "      <th>G2_por</th>\n",
              "      <th>G3_por</th>\n",
              "    </tr>\n",
              "  </thead>\n",
              "  <tbody>\n",
              "    <tr>\n",
              "      <th>count</th>\n",
              "      <td>382.000000</td>\n",
              "      <td>382.000000</td>\n",
              "      <td>382.000000</td>\n",
              "      <td>382.000000</td>\n",
              "      <td>382.000000</td>\n",
              "      <td>382.000000</td>\n",
              "      <td>382.000000</td>\n",
              "      <td>382.000000</td>\n",
              "      <td>382.000000</td>\n",
              "      <td>382.000000</td>\n",
              "      <td>...</td>\n",
              "      <td>382.000000</td>\n",
              "      <td>382.000000</td>\n",
              "      <td>382.000000</td>\n",
              "      <td>382.000000</td>\n",
              "      <td>382.000000</td>\n",
              "      <td>382.000000</td>\n",
              "      <td>382.000000</td>\n",
              "      <td>382.000000</td>\n",
              "      <td>382.000000</td>\n",
              "      <td>382.000000</td>\n",
              "    </tr>\n",
              "    <tr>\n",
              "      <th>mean</th>\n",
              "      <td>16.586387</td>\n",
              "      <td>2.806283</td>\n",
              "      <td>2.565445</td>\n",
              "      <td>1.442408</td>\n",
              "      <td>2.034031</td>\n",
              "      <td>0.290576</td>\n",
              "      <td>3.939791</td>\n",
              "      <td>3.222513</td>\n",
              "      <td>3.112565</td>\n",
              "      <td>1.473822</td>\n",
              "      <td>...</td>\n",
              "      <td>3.942408</td>\n",
              "      <td>3.230366</td>\n",
              "      <td>3.117801</td>\n",
              "      <td>1.476440</td>\n",
              "      <td>2.290576</td>\n",
              "      <td>3.575916</td>\n",
              "      <td>3.672775</td>\n",
              "      <td>12.112565</td>\n",
              "      <td>12.238220</td>\n",
              "      <td>12.515707</td>\n",
              "    </tr>\n",
              "    <tr>\n",
              "      <th>std</th>\n",
              "      <td>1.173470</td>\n",
              "      <td>1.086381</td>\n",
              "      <td>1.096240</td>\n",
              "      <td>0.695378</td>\n",
              "      <td>0.845798</td>\n",
              "      <td>0.729481</td>\n",
              "      <td>0.921620</td>\n",
              "      <td>0.988233</td>\n",
              "      <td>1.131927</td>\n",
              "      <td>0.886229</td>\n",
              "      <td>...</td>\n",
              "      <td>0.908884</td>\n",
              "      <td>0.985096</td>\n",
              "      <td>1.133710</td>\n",
              "      <td>0.886303</td>\n",
              "      <td>1.282577</td>\n",
              "      <td>1.404248</td>\n",
              "      <td>4.905965</td>\n",
              "      <td>2.556531</td>\n",
              "      <td>2.468341</td>\n",
              "      <td>2.945438</td>\n",
              "    </tr>\n",
              "    <tr>\n",
              "      <th>min</th>\n",
              "      <td>15.000000</td>\n",
              "      <td>0.000000</td>\n",
              "      <td>0.000000</td>\n",
              "      <td>1.000000</td>\n",
              "      <td>1.000000</td>\n",
              "      <td>0.000000</td>\n",
              "      <td>1.000000</td>\n",
              "      <td>1.000000</td>\n",
              "      <td>1.000000</td>\n",
              "      <td>1.000000</td>\n",
              "      <td>...</td>\n",
              "      <td>1.000000</td>\n",
              "      <td>1.000000</td>\n",
              "      <td>1.000000</td>\n",
              "      <td>1.000000</td>\n",
              "      <td>1.000000</td>\n",
              "      <td>1.000000</td>\n",
              "      <td>0.000000</td>\n",
              "      <td>0.000000</td>\n",
              "      <td>5.000000</td>\n",
              "      <td>0.000000</td>\n",
              "    </tr>\n",
              "    <tr>\n",
              "      <th>25%</th>\n",
              "      <td>16.000000</td>\n",
              "      <td>2.000000</td>\n",
              "      <td>2.000000</td>\n",
              "      <td>1.000000</td>\n",
              "      <td>1.000000</td>\n",
              "      <td>0.000000</td>\n",
              "      <td>4.000000</td>\n",
              "      <td>3.000000</td>\n",
              "      <td>2.000000</td>\n",
              "      <td>1.000000</td>\n",
              "      <td>...</td>\n",
              "      <td>4.000000</td>\n",
              "      <td>3.000000</td>\n",
              "      <td>2.000000</td>\n",
              "      <td>1.000000</td>\n",
              "      <td>1.000000</td>\n",
              "      <td>3.000000</td>\n",
              "      <td>0.000000</td>\n",
              "      <td>10.000000</td>\n",
              "      <td>11.000000</td>\n",
              "      <td>11.000000</td>\n",
              "    </tr>\n",
              "    <tr>\n",
              "      <th>50%</th>\n",
              "      <td>17.000000</td>\n",
              "      <td>3.000000</td>\n",
              "      <td>3.000000</td>\n",
              "      <td>1.000000</td>\n",
              "      <td>2.000000</td>\n",
              "      <td>0.000000</td>\n",
              "      <td>4.000000</td>\n",
              "      <td>3.000000</td>\n",
              "      <td>3.000000</td>\n",
              "      <td>1.000000</td>\n",
              "      <td>...</td>\n",
              "      <td>4.000000</td>\n",
              "      <td>3.000000</td>\n",
              "      <td>3.000000</td>\n",
              "      <td>1.000000</td>\n",
              "      <td>2.000000</td>\n",
              "      <td>4.000000</td>\n",
              "      <td>2.000000</td>\n",
              "      <td>12.000000</td>\n",
              "      <td>12.000000</td>\n",
              "      <td>13.000000</td>\n",
              "    </tr>\n",
              "    <tr>\n",
              "      <th>75%</th>\n",
              "      <td>17.000000</td>\n",
              "      <td>4.000000</td>\n",
              "      <td>4.000000</td>\n",
              "      <td>2.000000</td>\n",
              "      <td>2.000000</td>\n",
              "      <td>0.000000</td>\n",
              "      <td>5.000000</td>\n",
              "      <td>4.000000</td>\n",
              "      <td>4.000000</td>\n",
              "      <td>2.000000</td>\n",
              "      <td>...</td>\n",
              "      <td>5.000000</td>\n",
              "      <td>4.000000</td>\n",
              "      <td>4.000000</td>\n",
              "      <td>2.000000</td>\n",
              "      <td>3.000000</td>\n",
              "      <td>5.000000</td>\n",
              "      <td>6.000000</td>\n",
              "      <td>14.000000</td>\n",
              "      <td>14.000000</td>\n",
              "      <td>14.000000</td>\n",
              "    </tr>\n",
              "    <tr>\n",
              "      <th>max</th>\n",
              "      <td>22.000000</td>\n",
              "      <td>4.000000</td>\n",
              "      <td>4.000000</td>\n",
              "      <td>4.000000</td>\n",
              "      <td>4.000000</td>\n",
              "      <td>3.000000</td>\n",
              "      <td>5.000000</td>\n",
              "      <td>5.000000</td>\n",
              "      <td>5.000000</td>\n",
              "      <td>5.000000</td>\n",
              "      <td>...</td>\n",
              "      <td>5.000000</td>\n",
              "      <td>5.000000</td>\n",
              "      <td>5.000000</td>\n",
              "      <td>5.000000</td>\n",
              "      <td>5.000000</td>\n",
              "      <td>5.000000</td>\n",
              "      <td>32.000000</td>\n",
              "      <td>19.000000</td>\n",
              "      <td>19.000000</td>\n",
              "      <td>19.000000</td>\n",
              "    </tr>\n",
              "  </tbody>\n",
              "</table>\n",
              "<p>8 rows × 29 columns</p>\n",
              "</div>\n",
              "      <button class=\"colab-df-convert\" onclick=\"convertToInteractive('df-9fabe81e-0dda-447a-ad0f-376b73b1c89d')\"\n",
              "              title=\"Convert this dataframe to an interactive table.\"\n",
              "              style=\"display:none;\">\n",
              "        \n",
              "  <svg xmlns=\"http://www.w3.org/2000/svg\" height=\"24px\"viewBox=\"0 0 24 24\"\n",
              "       width=\"24px\">\n",
              "    <path d=\"M0 0h24v24H0V0z\" fill=\"none\"/>\n",
              "    <path d=\"M18.56 5.44l.94 2.06.94-2.06 2.06-.94-2.06-.94-.94-2.06-.94 2.06-2.06.94zm-11 1L8.5 8.5l.94-2.06 2.06-.94-2.06-.94L8.5 2.5l-.94 2.06-2.06.94zm10 10l.94 2.06.94-2.06 2.06-.94-2.06-.94-.94-2.06-.94 2.06-2.06.94z\"/><path d=\"M17.41 7.96l-1.37-1.37c-.4-.4-.92-.59-1.43-.59-.52 0-1.04.2-1.43.59L10.3 9.45l-7.72 7.72c-.78.78-.78 2.05 0 2.83L4 21.41c.39.39.9.59 1.41.59.51 0 1.02-.2 1.41-.59l7.78-7.78 2.81-2.81c.8-.78.8-2.07 0-2.86zM5.41 20L4 18.59l7.72-7.72 1.47 1.35L5.41 20z\"/>\n",
              "  </svg>\n",
              "      </button>\n",
              "      \n",
              "  <style>\n",
              "    .colab-df-container {\n",
              "      display:flex;\n",
              "      flex-wrap:wrap;\n",
              "      gap: 12px;\n",
              "    }\n",
              "\n",
              "    .colab-df-convert {\n",
              "      background-color: #E8F0FE;\n",
              "      border: none;\n",
              "      border-radius: 50%;\n",
              "      cursor: pointer;\n",
              "      display: none;\n",
              "      fill: #1967D2;\n",
              "      height: 32px;\n",
              "      padding: 0 0 0 0;\n",
              "      width: 32px;\n",
              "    }\n",
              "\n",
              "    .colab-df-convert:hover {\n",
              "      background-color: #E2EBFA;\n",
              "      box-shadow: 0px 1px 2px rgba(60, 64, 67, 0.3), 0px 1px 3px 1px rgba(60, 64, 67, 0.15);\n",
              "      fill: #174EA6;\n",
              "    }\n",
              "\n",
              "    [theme=dark] .colab-df-convert {\n",
              "      background-color: #3B4455;\n",
              "      fill: #D2E3FC;\n",
              "    }\n",
              "\n",
              "    [theme=dark] .colab-df-convert:hover {\n",
              "      background-color: #434B5C;\n",
              "      box-shadow: 0px 1px 3px 1px rgba(0, 0, 0, 0.15);\n",
              "      filter: drop-shadow(0px 1px 2px rgba(0, 0, 0, 0.3));\n",
              "      fill: #FFFFFF;\n",
              "    }\n",
              "  </style>\n",
              "\n",
              "      <script>\n",
              "        const buttonEl =\n",
              "          document.querySelector('#df-9fabe81e-0dda-447a-ad0f-376b73b1c89d button.colab-df-convert');\n",
              "        buttonEl.style.display =\n",
              "          google.colab.kernel.accessAllowed ? 'block' : 'none';\n",
              "\n",
              "        async function convertToInteractive(key) {\n",
              "          const element = document.querySelector('#df-9fabe81e-0dda-447a-ad0f-376b73b1c89d');\n",
              "          const dataTable =\n",
              "            await google.colab.kernel.invokeFunction('convertToInteractive',\n",
              "                                                     [key], {});\n",
              "          if (!dataTable) return;\n",
              "\n",
              "          const docLinkHtml = 'Like what you see? Visit the ' +\n",
              "            '<a target=\"_blank\" href=https://colab.research.google.com/notebooks/data_table.ipynb>data table notebook</a>'\n",
              "            + ' to learn more about interactive tables.';\n",
              "          element.innerHTML = '';\n",
              "          dataTable['output_type'] = 'display_data';\n",
              "          await google.colab.output.renderOutput(dataTable, element);\n",
              "          const docLink = document.createElement('div');\n",
              "          docLink.innerHTML = docLinkHtml;\n",
              "          element.appendChild(docLink);\n",
              "        }\n",
              "      </script>\n",
              "    </div>\n",
              "  </div>\n",
              "  "
            ]
          },
          "metadata": {},
          "execution_count": 76
        }
      ]
    },
    {
      "cell_type": "markdown",
      "source": [
        "merge에 suffixes 파라미터를 추가하면 병합할 객체들간 이름이 중복되는 열이 있다면, 해당 열에 붙일 접미사를 정할 수 있다."
      ],
      "metadata": {
        "id": "YRF-mYZYN0yT"
      }
    },
    {
      "cell_type": "code",
      "source": [
        "data_merge2 = pd.merge(math_data, por_data, on = ['school', 'sex', 'age', 'address', 'famsize', 'Pstatus', 'Medu', 'Fedu', 'Mjob', 'Fjob', 'reason', 'nursery', 'internet'])\n",
        "data_merge2.head()"
      ],
      "metadata": {
        "colab": {
          "base_uri": "https://localhost:8080/",
          "height": 232
        },
        "id": "FQXtOOzaOIoP",
        "outputId": "1ed874e3-8622-4cac-f27d-ab75129192a9"
      },
      "execution_count": 75,
      "outputs": [
        {
          "output_type": "execute_result",
          "data": {
            "text/plain": [
              "  school sex  age address famsize Pstatus  Medu  Fedu     Mjob      Fjob  ...  \\\n",
              "0     GP   F   18       U     GT3       A     4     4  at_home   teacher  ...   \n",
              "1     GP   F   17       U     GT3       T     1     1  at_home     other  ...   \n",
              "2     GP   F   15       U     LE3       T     1     1  at_home     other  ...   \n",
              "3     GP   F   15       U     GT3       T     4     2   health  services  ...   \n",
              "4     GP   F   16       U     GT3       T     3     3    other     other  ...   \n",
              "\n",
              "  famrel_y freetime_y  goout_y  Dalc_y  Walc_y health_y absences_y G1_y G2_y  \\\n",
              "0        4          3        4       1       1        3          4    0   11   \n",
              "1        5          3        3       1       1        3          2    9   11   \n",
              "2        4          3        2       2       3        3          6   12   13   \n",
              "3        3          2        2       1       1        5          0   14   14   \n",
              "4        4          3        2       1       2        5          0   11   13   \n",
              "\n",
              "  G3_y  \n",
              "0   11  \n",
              "1   11  \n",
              "2   12  \n",
              "3   14  \n",
              "4   13  \n",
              "\n",
              "[5 rows x 53 columns]"
            ],
            "text/html": [
              "\n",
              "  <div id=\"df-5c6eeff7-564d-4587-8d60-922d8b505262\">\n",
              "    <div class=\"colab-df-container\">\n",
              "      <div>\n",
              "<style scoped>\n",
              "    .dataframe tbody tr th:only-of-type {\n",
              "        vertical-align: middle;\n",
              "    }\n",
              "\n",
              "    .dataframe tbody tr th {\n",
              "        vertical-align: top;\n",
              "    }\n",
              "\n",
              "    .dataframe thead th {\n",
              "        text-align: right;\n",
              "    }\n",
              "</style>\n",
              "<table border=\"1\" class=\"dataframe\">\n",
              "  <thead>\n",
              "    <tr style=\"text-align: right;\">\n",
              "      <th></th>\n",
              "      <th>school</th>\n",
              "      <th>sex</th>\n",
              "      <th>age</th>\n",
              "      <th>address</th>\n",
              "      <th>famsize</th>\n",
              "      <th>Pstatus</th>\n",
              "      <th>Medu</th>\n",
              "      <th>Fedu</th>\n",
              "      <th>Mjob</th>\n",
              "      <th>Fjob</th>\n",
              "      <th>...</th>\n",
              "      <th>famrel_y</th>\n",
              "      <th>freetime_y</th>\n",
              "      <th>goout_y</th>\n",
              "      <th>Dalc_y</th>\n",
              "      <th>Walc_y</th>\n",
              "      <th>health_y</th>\n",
              "      <th>absences_y</th>\n",
              "      <th>G1_y</th>\n",
              "      <th>G2_y</th>\n",
              "      <th>G3_y</th>\n",
              "    </tr>\n",
              "  </thead>\n",
              "  <tbody>\n",
              "    <tr>\n",
              "      <th>0</th>\n",
              "      <td>GP</td>\n",
              "      <td>F</td>\n",
              "      <td>18</td>\n",
              "      <td>U</td>\n",
              "      <td>GT3</td>\n",
              "      <td>A</td>\n",
              "      <td>4</td>\n",
              "      <td>4</td>\n",
              "      <td>at_home</td>\n",
              "      <td>teacher</td>\n",
              "      <td>...</td>\n",
              "      <td>4</td>\n",
              "      <td>3</td>\n",
              "      <td>4</td>\n",
              "      <td>1</td>\n",
              "      <td>1</td>\n",
              "      <td>3</td>\n",
              "      <td>4</td>\n",
              "      <td>0</td>\n",
              "      <td>11</td>\n",
              "      <td>11</td>\n",
              "    </tr>\n",
              "    <tr>\n",
              "      <th>1</th>\n",
              "      <td>GP</td>\n",
              "      <td>F</td>\n",
              "      <td>17</td>\n",
              "      <td>U</td>\n",
              "      <td>GT3</td>\n",
              "      <td>T</td>\n",
              "      <td>1</td>\n",
              "      <td>1</td>\n",
              "      <td>at_home</td>\n",
              "      <td>other</td>\n",
              "      <td>...</td>\n",
              "      <td>5</td>\n",
              "      <td>3</td>\n",
              "      <td>3</td>\n",
              "      <td>1</td>\n",
              "      <td>1</td>\n",
              "      <td>3</td>\n",
              "      <td>2</td>\n",
              "      <td>9</td>\n",
              "      <td>11</td>\n",
              "      <td>11</td>\n",
              "    </tr>\n",
              "    <tr>\n",
              "      <th>2</th>\n",
              "      <td>GP</td>\n",
              "      <td>F</td>\n",
              "      <td>15</td>\n",
              "      <td>U</td>\n",
              "      <td>LE3</td>\n",
              "      <td>T</td>\n",
              "      <td>1</td>\n",
              "      <td>1</td>\n",
              "      <td>at_home</td>\n",
              "      <td>other</td>\n",
              "      <td>...</td>\n",
              "      <td>4</td>\n",
              "      <td>3</td>\n",
              "      <td>2</td>\n",
              "      <td>2</td>\n",
              "      <td>3</td>\n",
              "      <td>3</td>\n",
              "      <td>6</td>\n",
              "      <td>12</td>\n",
              "      <td>13</td>\n",
              "      <td>12</td>\n",
              "    </tr>\n",
              "    <tr>\n",
              "      <th>3</th>\n",
              "      <td>GP</td>\n",
              "      <td>F</td>\n",
              "      <td>15</td>\n",
              "      <td>U</td>\n",
              "      <td>GT3</td>\n",
              "      <td>T</td>\n",
              "      <td>4</td>\n",
              "      <td>2</td>\n",
              "      <td>health</td>\n",
              "      <td>services</td>\n",
              "      <td>...</td>\n",
              "      <td>3</td>\n",
              "      <td>2</td>\n",
              "      <td>2</td>\n",
              "      <td>1</td>\n",
              "      <td>1</td>\n",
              "      <td>5</td>\n",
              "      <td>0</td>\n",
              "      <td>14</td>\n",
              "      <td>14</td>\n",
              "      <td>14</td>\n",
              "    </tr>\n",
              "    <tr>\n",
              "      <th>4</th>\n",
              "      <td>GP</td>\n",
              "      <td>F</td>\n",
              "      <td>16</td>\n",
              "      <td>U</td>\n",
              "      <td>GT3</td>\n",
              "      <td>T</td>\n",
              "      <td>3</td>\n",
              "      <td>3</td>\n",
              "      <td>other</td>\n",
              "      <td>other</td>\n",
              "      <td>...</td>\n",
              "      <td>4</td>\n",
              "      <td>3</td>\n",
              "      <td>2</td>\n",
              "      <td>1</td>\n",
              "      <td>2</td>\n",
              "      <td>5</td>\n",
              "      <td>0</td>\n",
              "      <td>11</td>\n",
              "      <td>13</td>\n",
              "      <td>13</td>\n",
              "    </tr>\n",
              "  </tbody>\n",
              "</table>\n",
              "<p>5 rows × 53 columns</p>\n",
              "</div>\n",
              "      <button class=\"colab-df-convert\" onclick=\"convertToInteractive('df-5c6eeff7-564d-4587-8d60-922d8b505262')\"\n",
              "              title=\"Convert this dataframe to an interactive table.\"\n",
              "              style=\"display:none;\">\n",
              "        \n",
              "  <svg xmlns=\"http://www.w3.org/2000/svg\" height=\"24px\"viewBox=\"0 0 24 24\"\n",
              "       width=\"24px\">\n",
              "    <path d=\"M0 0h24v24H0V0z\" fill=\"none\"/>\n",
              "    <path d=\"M18.56 5.44l.94 2.06.94-2.06 2.06-.94-2.06-.94-.94-2.06-.94 2.06-2.06.94zm-11 1L8.5 8.5l.94-2.06 2.06-.94-2.06-.94L8.5 2.5l-.94 2.06-2.06.94zm10 10l.94 2.06.94-2.06 2.06-.94-2.06-.94-.94-2.06-.94 2.06-2.06.94z\"/><path d=\"M17.41 7.96l-1.37-1.37c-.4-.4-.92-.59-1.43-.59-.52 0-1.04.2-1.43.59L10.3 9.45l-7.72 7.72c-.78.78-.78 2.05 0 2.83L4 21.41c.39.39.9.59 1.41.59.51 0 1.02-.2 1.41-.59l7.78-7.78 2.81-2.81c.8-.78.8-2.07 0-2.86zM5.41 20L4 18.59l7.72-7.72 1.47 1.35L5.41 20z\"/>\n",
              "  </svg>\n",
              "      </button>\n",
              "      \n",
              "  <style>\n",
              "    .colab-df-container {\n",
              "      display:flex;\n",
              "      flex-wrap:wrap;\n",
              "      gap: 12px;\n",
              "    }\n",
              "\n",
              "    .colab-df-convert {\n",
              "      background-color: #E8F0FE;\n",
              "      border: none;\n",
              "      border-radius: 50%;\n",
              "      cursor: pointer;\n",
              "      display: none;\n",
              "      fill: #1967D2;\n",
              "      height: 32px;\n",
              "      padding: 0 0 0 0;\n",
              "      width: 32px;\n",
              "    }\n",
              "\n",
              "    .colab-df-convert:hover {\n",
              "      background-color: #E2EBFA;\n",
              "      box-shadow: 0px 1px 2px rgba(60, 64, 67, 0.3), 0px 1px 3px 1px rgba(60, 64, 67, 0.15);\n",
              "      fill: #174EA6;\n",
              "    }\n",
              "\n",
              "    [theme=dark] .colab-df-convert {\n",
              "      background-color: #3B4455;\n",
              "      fill: #D2E3FC;\n",
              "    }\n",
              "\n",
              "    [theme=dark] .colab-df-convert:hover {\n",
              "      background-color: #434B5C;\n",
              "      box-shadow: 0px 1px 3px 1px rgba(0, 0, 0, 0.15);\n",
              "      filter: drop-shadow(0px 1px 2px rgba(0, 0, 0, 0.3));\n",
              "      fill: #FFFFFF;\n",
              "    }\n",
              "  </style>\n",
              "\n",
              "      <script>\n",
              "        const buttonEl =\n",
              "          document.querySelector('#df-5c6eeff7-564d-4587-8d60-922d8b505262 button.colab-df-convert');\n",
              "        buttonEl.style.display =\n",
              "          google.colab.kernel.accessAllowed ? 'block' : 'none';\n",
              "\n",
              "        async function convertToInteractive(key) {\n",
              "          const element = document.querySelector('#df-5c6eeff7-564d-4587-8d60-922d8b505262');\n",
              "          const dataTable =\n",
              "            await google.colab.kernel.invokeFunction('convertToInteractive',\n",
              "                                                     [key], {});\n",
              "          if (!dataTable) return;\n",
              "\n",
              "          const docLinkHtml = 'Like what you see? Visit the ' +\n",
              "            '<a target=\"_blank\" href=https://colab.research.google.com/notebooks/data_table.ipynb>data table notebook</a>'\n",
              "            + ' to learn more about interactive tables.';\n",
              "          element.innerHTML = '';\n",
              "          dataTable['output_type'] = 'display_data';\n",
              "          await google.colab.output.renderOutput(dataTable, element);\n",
              "          const docLink = document.createElement('div');\n",
              "          docLink.innerHTML = docLinkHtml;\n",
              "          element.appendChild(docLink);\n",
              "        }\n",
              "      </script>\n",
              "    </div>\n",
              "  </div>\n",
              "  "
            ]
          },
          "metadata": {},
          "execution_count": 75
        },
        {
          "output_type": "stream",
          "name": "stdout",
          "text": [
            "Warning: Total number of columns (53) exceeds max_columns (20) limiting to first (20) columns.\n"
          ]
        }
      ]
    },
    {
      "cell_type": "markdown",
      "source": [
        "3. 위에서 결합한 데이터에서 Medu, Fedu, Ge_math 등의 변수를 선택해 산점도와 히스토그램을 작성해보세요."
      ],
      "metadata": {
        "id": "KF5_p_SLOfwi"
      }
    },
    {
      "cell_type": "code",
      "source": [
        "sns.pairplot(data_merge[['Medu', 'Fedu', 'G3_math']])\n",
        "plt.grid(True)"
      ],
      "metadata": {
        "colab": {
          "base_uri": "https://localhost:8080/",
          "height": 550
        },
        "id": "7twhcBUnOmKt",
        "outputId": "05d777dc-0066-4207-a1a3-b161d9c16891"
      },
      "execution_count": 78,
      "outputs": [
        {
          "output_type": "display_data",
          "data": {
            "text/plain": [
              "<Figure size 540x540 with 12 Axes>"
            ],
            "image/png": "[encoded data removed]"
          },
          "metadata": {
            "needs_background": "light"
          }
        }
      ]
    },
    {
      "cell_type": "markdown",
      "source": [
        "\n",
        "\n",
        "---\n",
        "\n"
      ],
      "metadata": {
        "id": "oeFvuuMQPsoJ"
      }
    },
    {
      "cell_type": "markdown",
      "source": [
        "## 단순회귀분석"
      ],
      "metadata": {
        "id": "tRHr3p0KPtl3"
      }
    },
    {
      "cell_type": "markdown",
      "source": [
        "회귀분석은 수치를 예측하는 분석이다. 머신러닝에서 데이터를 예측하는 기초적인 방법이 단순회귀분석이다.\n",
        "\n",
        "앞에서 학생들의 1학기 수학 성적과 최종학기 수학성적을 시각화(산점도)해보면 G1과 G3은 어떤 관계가 있다."
      ],
      "metadata": {
        "id": "xDCukz6-PvqT"
      }
    },
    {
      "cell_type": "code",
      "source": [
        "# 산점도\n",
        "plt.plot(student_data_math['G1'], student_data_math['G3'], 'o')\n",
        "plt.xlabel('G1 grade')\n",
        "plt.ylabel('G3 grade')\n",
        "plt.grid(True)"
      ],
      "metadata": {
        "colab": {
          "base_uri": "https://localhost:8080/",
          "height": 285
        },
        "id": "UGmjHAV7P7MP",
        "outputId": "0ed4b13f-b52b-4d98-b986-54bf39067742"
      },
      "execution_count": 79,
      "outputs": [
        {
          "output_type": "display_data",
          "data": {
            "text/plain": [
              "<Figure size 432x288 with 1 Axes>"
            ],
            "image/png": "[encoded data removed]"
          },
          "metadata": {
            "needs_background": "light"
          }
        }
      ]
    },
    {
      "cell_type": "markdown",
      "source": [
        "회귀분석은 주어진 데이터에서 변수 사이에 어떠한 관계를 가정하고 이 관계를 가장 잘 표현하는 **수식**을 구하는 것이다.\n",
        "\n",
        "-> 이미 알고 있는 G1 성적을 이용해서 G3 성적을 예측한다. 이런 방법은 머신러닝의 **지도학습**의 한 종류다."
      ],
      "metadata": {
        "id": "XWY5HmeBQKmp"
      }
    },
    {
      "cell_type": "markdown",
      "source": [
        "## 선형회귀분석"
      ],
      "metadata": {
        "id": "8gBScLMyQmHi"
      }
    },
    {
      "cell_type": "markdown",
      "source": [
        "선형회귀분석은 사이킷런 라이브러리의 sklearn.linear_model을 이용해서 간단하게 실행할 수 있다. 아래는 단순회귀 중에서도 입력값과 결괏값 사이에 선형관계 (y = ax + b)를 가정하는 단순회귀방식이다."
      ],
      "metadata": {
        "id": "JsybITEYQn65"
      }
    },
    {
      "cell_type": "code",
      "source": [
        "from sklearn import linear_model\n",
        "\n",
        "# 선형회귀 인스턴스 생성\n",
        "reg = linear_model.LinearRegression()"
      ],
      "metadata": {
        "id": "FyxU0U-YQv8_"
      },
      "execution_count": 80,
      "outputs": []
    },
    {
      "cell_type": "code",
      "source": [
        "# 설명변수는 1학기 수학 성적\n",
        "# loc은 데이터프레임의 행과 열을 지정해서 추출\n",
        "# loc[ :, ['G1]]은 G1열의 모든 값을 추출한다.\n",
        "# values로 변경되었으므로 주의\n",
        "\n",
        "X = student_data_math.loc[:, ['G1']].values\n",
        "\n",
        "# 목표변수는 최종 수학 성적\n",
        "Y = student_data_math['G3'].values\n",
        "\n",
        "# 예측모델 계산 a, b 산출\n",
        "reg.fit(X, Y)\n",
        "\n",
        "# 회귀계수\n",
        "print('회귀계수: ', reg.coef_)\n",
        "\n",
        "# 절편\n",
        "print('절편: ', reg.intercept_)"
      ],
      "metadata": {
        "colab": {
          "base_uri": "https://localhost:8080/"
        },
        "id": "-KaWPwMLRB5X",
        "outputId": "b5b2d730-d80c-45fe-f54c-9c99e0bc9952"
      },
      "execution_count": 85,
      "outputs": [
        {
          "output_type": "stream",
          "name": "stdout",
          "text": [
            "회귀계수:  [1.106]\n",
            "절편:  -1.6528038288004634\n"
          ]
        }
      ]
    },
    {
      "cell_type": "markdown",
      "source": [
        "-> 실행 결과 회귀계수가 선형회귀식(y = ax + b)에서 a에 해당되며 절편은 b다."
      ],
      "metadata": {
        "id": "mJmSExNsStP-"
      }
    },
    {
      "cell_type": "code",
      "source": [
        "# 앞에서 그린 것과 같은 산점도\n",
        "plt.scatter(X, Y)\n",
        "plt.xlabel('G1 grade')\n",
        "plt.ylabel('G3 grade')\n",
        "\n",
        "# 위의 그래프에 선형회귀선 추가\n",
        "plt.plot(X, reg.predict(X))\n",
        "plt.grid(True)"
      ],
      "metadata": {
        "colab": {
          "base_uri": "https://localhost:8080/",
          "height": 285
        },
        "id": "4EHBCEHjS2sN",
        "outputId": "64f5ac8a-52c1-41c2-e81f-4afbfc873636"
      },
      "execution_count": 88,
      "outputs": [
        {
          "output_type": "display_data",
          "data": {
            "text/plain": [
              "<Figure size 432x288 with 1 Axes>"
            ],
            "image/png": "[encoded data removed]"
          },
          "metadata": {
            "needs_background": "light"
          }
        }
      ]
    },
    {
      "cell_type": "markdown",
      "source": [
        "## 결정계수"
      ],
      "metadata": {
        "id": "SmyYukezTtnL"
      }
    },
    {
      "cell_type": "markdown",
      "source": [
        "회귀식이 값을 잘 예측하는 것처럼 보이지만 객관적으로도 그런지 판단하기 어렵다. 이런 판단을 위해 수치화된 값이 **결정계수**다. 결정 계수는 기여율이라고도 한다. 일반적으로 R^2(R-Squared)로 표기한다."
      ],
      "metadata": {
        "id": "GBdaNZETTvIO"
      }
    },
    {
      "cell_type": "markdown",
      "source": [
        "결정계수의 최댓값은 1이며 1에 가까울수록 좋은 모델이다. 파이썬으로 결정계수를 구하려면 score을 이용해 코드를 작성한다."
      ],
      "metadata": {
        "id": "flQQHc7_UtfN"
      }
    },
    {
      "cell_type": "code",
      "source": [
        "# 결정계수, 기여율이라고도 부름\n",
        "print('결정계수: ', reg.score(X, Y))"
      ],
      "metadata": {
        "colab": {
          "base_uri": "https://localhost:8080/"
        },
        "id": "pd_lW-cZU5HJ",
        "outputId": "991e5dee-1177-47fb-9ee0-2f629ab364b7"
      },
      "execution_count": 93,
      "outputs": [
        {
          "output_type": "stream",
          "name": "stdout",
          "text": [
            "결정계수:  0.6423508460522701\n"
          ]
        }
      ]
    },
    {
      "cell_type": "markdown",
      "source": [
        "-> 결정 계수가 어느 정도 커야 좋은 회귀식인지 판단해야하는 문제가 남는다. 판단 기준은 사례마다 다르다."
      ],
      "metadata": {
        "id": "PhYUCsxbVACY"
      }
    },
    {
      "cell_type": "markdown",
      "source": [
        "\n",
        "\n",
        "---\n",
        "\n"
      ],
      "metadata": {
        "id": "hsVIo7qTVN9M"
      }
    },
    {
      "cell_type": "markdown",
      "source": [
        "# 연습문제"
      ],
      "metadata": {
        "id": "ery4dRvQVOuF"
      }
    },
    {
      "cell_type": "markdown",
      "source": [
        "1. 포르투갈어 성적 데이터 student-por.csv에서 G3이 목표변수, G1이 설명변수인 단순회귀 분석을 하고 회귀계수, 절편, 결정계수를 구하세요."
      ],
      "metadata": {
        "id": "4nEl-PV8VP3y"
      }
    },
    {
      "cell_type": "markdown",
      "source": [
        "2. 문제1 데이터의 산점도와 회귀선을 함께 그리세요."
      ],
      "metadata": {
        "id": "Rp0nWMnQVZ62"
      }
    },
    {
      "cell_type": "markdown",
      "source": [
        "3. student-por.csv 데이터를 사용해 G3이 목표변수, absences(결석일 수)가 설명변수인 단순회귀분석을 하고 회귀계수, 절편, 결정계수를 구하세요. 산점도와 회귀선 그래프를 그려보고 결과에 대해 잘 생각해 봅시다."
      ],
      "metadata": {
        "id": "xwsqeUYZVfw-"
      }
    }
  ]
}