{
  "nbformat": 4,
  "nbformat_minor": 0,
  "metadata": {
    "colab": {
      "name": "확률과 통계.ipynb",
      "provenance": [],
      "collapsed_sections": [],
      "authorship_tag": "ABX9TyOAX7KOlfxaivp9+AmkurVY"
    },
    "kernelspec": {
      "name": "python3",
      "display_name": "Python 3"
    },
    "language_info": {
      "name": "python"
    }
  },
  "cells": [
    {
      "cell_type": "markdown",
      "source": [
        "# **확률과 통계 기초**"
      ],
      "metadata": {
        "id": "HJ1FTKFHF9dx"
      }
    },
    {
      "cell_type": "code",
      "execution_count": 21,
      "metadata": {
        "id": "yumxch3kUxag"
      },
      "outputs": [],
      "source": [
        "# 라이브러리 임포트\n",
        "import numpy as np\n",
        "import numpy.random as random\n",
        "import scipy as sp\n",
        "import pandas as pd\n",
        "from pandas import Series, DataFrame\n",
        "\n",
        "# 시각화 라이브러리\n",
        "import matplotlib.pyplot as plt\n",
        "import matplotlib as mpl\n",
        "import seaborn as sns\n",
        "sns.set()\n",
        "% matplotlib inline\n",
        "\n",
        "# 소수점 세 번째 자리 숫자까지 표시\n",
        "%precision 3\n",
        "\n",
        "# 랜덤시드 지정\n",
        "np.random.seed(0)"
      ]
    },
    {
      "cell_type": "markdown",
      "source": [
        "## 확률"
      ],
      "metadata": {
        "id": "Rj7BIRXNGIk5"
      }
    },
    {
      "cell_type": "markdown",
      "source": [
        "수학적 확률"
      ],
      "metadata": {
        "id": "wza6MCA-GLiN"
      }
    },
    {
      "cell_type": "code",
      "source": [
        "# 주사위 던지기 결괏값을 배열로 저장\n",
        "dice_data = np.array([1,2,3,4,5,6])"
      ],
      "metadata": {
        "id": "E-Jlth3fGOC1"
      },
      "execution_count": 2,
      "outputs": []
    },
    {
      "cell_type": "markdown",
      "source": [
        "**사건**\n",
        "\n",
        "데이터에서 무작위로 하나의 수를 추출한다고 생각해보자. 이것을 **시행**이라고 한다. 넘파이에서 random.choice의 두 번째 인수에 1을 지정하면 무작위로 하나의 값을 추출할 수 있다. (2를 지정하면 2개 추출)"
      ],
      "metadata": {
        "id": "cE_2nM-TGibE"
      }
    },
    {
      "cell_type": "code",
      "source": [
        "# 인수는 대상 데이터 dice_data에서 하나의 값을 무작위로 추출한다는 의미\n",
        "print('숫자 하나만 무작위로 추출: ', np.random.choice(dice_data, 1))"
      ],
      "metadata": {
        "colab": {
          "base_uri": "https://localhost:8080/"
        },
        "id": "y4kNJc90GUuM",
        "outputId": "6e993217-7cfc-4743-fffe-d158fdbf5382"
      },
      "execution_count": 6,
      "outputs": [
        {
          "output_type": "stream",
          "name": "stdout",
          "text": [
            "숫자 하나만 무작위로 추출:  [1]\n"
          ]
        }
      ]
    },
    {
      "cell_type": "markdown",
      "source": [
        "-> 각 시행 결과를 근원사건(기본사건)이라고 한다. 모든 가능한 근원사건을 모아둔 집합을 표본공간(S)라고한다."
      ],
      "metadata": {
        "id": "v6QqygZ5G3K4"
      }
    },
    {
      "cell_type": "markdown",
      "source": [
        "## 통계적 확률"
      ],
      "metadata": {
        "id": "HXfH1855HQ1F"
      }
    },
    {
      "cell_type": "markdown",
      "source": [
        "주사위를 1000번 던지는 실험으로 각 근원사건(1~6의 숫자가 나오는 사건)이 실제로 수학적 확률인 1/6으로 발생하는지 계산해보자."
      ],
      "metadata": {
        "id": "xLH1eFphHTLZ"
      }
    },
    {
      "cell_type": "code",
      "source": [
        "# 주사위를 1000번 던짐\n",
        "calc_steps = 1000\n",
        "\n",
        "# 1~6d의 숫자 중에서 1000회 추출 시행\n",
        "dice_rolls = np.random.choice(dice_data, calc_steps)\n",
        "\n",
        "# 각 숫자가 추출되는 횟수의 비율을 계산\n",
        "for i in range(1, 7):\n",
        "  p = len(dice_rolls[dice_rolls == i]) / calc_steps\n",
        "  print(i, '가 나올 확률', p)"
      ],
      "metadata": {
        "colab": {
          "base_uri": "https://localhost:8080/"
        },
        "id": "MWhPawm5HciE",
        "outputId": "3ae7375c-c8e3-4a96-8a53-68c910040fa9"
      },
      "execution_count": 8,
      "outputs": [
        {
          "output_type": "stream",
          "name": "stdout",
          "text": [
            "1 가 나올 확률 0.164\n",
            "2 가 나올 확률 0.166\n",
            "3 가 나올 확률 0.169\n",
            "4 가 나올 확률 0.18\n",
            "5 가 나올 확률 0.158\n",
            "6 가 나올 확률 0.163\n"
          ]
        }
      ]
    },
    {
      "cell_type": "markdown",
      "source": [
        "\n",
        "\n",
        "---\n",
        "\n"
      ],
      "metadata": {
        "id": "05az9r2YJgtM"
      }
    },
    {
      "cell_type": "markdown",
      "source": [
        "# 연습문제"
      ],
      "metadata": {
        "id": "2sS79b7jKvPi"
      }
    },
    {
      "cell_type": "markdown",
      "source": [
        "1 . 동저의 앞을 0, 뒤를 1로 표시하는 배열을 다음과 같이 생성한다.\n",
        "\n",
        "coin_data = np.array([0,1])\n",
        "\n",
        "이 배열을 이용해 동전 던지기 시행을 1000회 실시하고 그 결과 앞(값이 0)과 뒤(값이 1)가 나올 각 확률을 구하세요."
      ],
      "metadata": {
        "id": "eu0u7v4cK0KJ"
      }
    },
    {
      "cell_type": "code",
      "source": [
        "# 배열 생성\n",
        "coin_data = np.array([0,1])\n",
        "\n",
        "# 동전 던지기 1000회\n",
        "N = 1000\n",
        "\n",
        "# seed 지정\n",
        "random.seed(0)\n",
        "\n",
        "# choice 사용\n",
        "count_all_coin = random.choice(coin_data, N)\n",
        "\n",
        "# 각 숫자가 추출된 비율 계산\n",
        "for i in [0,1] :\n",
        "  print(i, '가 나올 확률 ', len(count_all_coin[count_all_coin == i]) / N)"
      ],
      "metadata": {
        "colab": {
          "base_uri": "https://localhost:8080/"
        },
        "id": "O-TCzZlCLEs6",
        "outputId": "de194c14-b6d7-441a-edd5-0613a717c7f3"
      },
      "execution_count": 24,
      "outputs": [
        {
          "output_type": "stream",
          "name": "stdout",
          "text": [
            "0 가 나올 확률  0.496\n",
            "1 가 나올 확률  0.504\n"
          ]
        }
      ]
    }
  ]
}