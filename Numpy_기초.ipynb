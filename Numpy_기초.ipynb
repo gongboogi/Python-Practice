{
  "nbformat": 4,
  "nbformat_minor": 0,
  "metadata": {
    "colab": {
      "name": "Numpy 기초.ipynb",
      "provenance": [],
      "collapsed_sections": [],
      "authorship_tag": "ABX9TyOAmx5g2Ix7seD+/VpBg1b2",
      "include_colab_link": true
    },
    "kernelspec": {
      "name": "python3",
      "display_name": "Python 3"
    },
    "language_info": {
      "name": "python"
    }
  },
  "cells": [
    {
      "cell_type": "markdown",
      "metadata": {
        "id": "view-in-github",
        "colab_type": "text"
      },
      "source": [
        "<a href=\"https://colab.research.google.com/github/gongboogi/Python-Practice/blob/main/Numpy_%EA%B8%B0%EC%B4%88.ipynb\" target=\"_parent\"><img src=\"https://colab.research.google.com/assets/colab-badge.svg\" alt=\"Open In Colab\"/></a>"
      ]
    },
    {
      "cell_type": "markdown",
      "source": [
        "## 넘파이 기초 연습하기"
      ],
      "metadata": {
        "id": "16ftgqBYz-aW"
      }
    },
    {
      "cell_type": "markdown",
      "source": [
        "넘파이 임포트"
      ],
      "metadata": {
        "id": "9oJZK1-O0-Qw"
      }
    },
    {
      "cell_type": "code",
      "source": [
        "# 넘파이 라이브러리 임포트\n",
        "import numpy as np\n",
        "\n",
        "# 소수점 세 번째 자리가지 표시\n",
        "%precision 3"
      ],
      "metadata": {
        "colab": {
          "base_uri": "https://localhost:8080/",
          "height": 35
        },
        "id": "P8Me-juEz9J2",
        "outputId": "98601336-38ea-4be1-9957-199040e8eb31"
      },
      "execution_count": 2,
      "outputs": [
        {
          "output_type": "execute_result",
          "data": {
            "text/plain": [
              "'%.3f'"
            ],
            "application/vnd.google.colaboratory.intrinsic+json": {
              "type": "string"
            }
          },
          "metadata": {},
          "execution_count": 2
        }
      ]
    },
    {
      "cell_type": "markdown",
      "source": [
        "배열 생성과 조작, 가공"
      ],
      "metadata": {
        "id": "mVAOseiT0_pq"
      }
    },
    {
      "cell_type": "code",
      "source": [
        "# 배열 생성\n",
        "data = np.array([9, 2, 3, 4, 10, 6, 7, 8, 1, 5])\n",
        "data"
      ],
      "metadata": {
        "colab": {
          "base_uri": "https://localhost:8080/"
        },
        "id": "a5A6pGP706Xg",
        "outputId": "ff01add0-c60d-41dc-9d84-89b98e31584a"
      },
      "execution_count": 3,
      "outputs": [
        {
          "output_type": "execute_result",
          "data": {
            "text/plain": [
              "array([ 9,  2,  3,  4, 10,  6,  7,  8,  1,  5])"
            ]
          },
          "metadata": {},
          "execution_count": 3
        }
      ]
    },
    {
      "cell_type": "markdown",
      "source": [
        "데이터 형"
      ],
      "metadata": {
        "id": "IA7Fn5N12LYr"
      }
    },
    {
      "cell_type": "code",
      "source": [
        "data.dtype"
      ],
      "metadata": {
        "colab": {
          "base_uri": "https://localhost:8080/"
        },
        "id": "6ik1Xu2o2MpG",
        "outputId": "1d5942db-2326-4a62-b741-23919691e3ba"
      },
      "execution_count": 4,
      "outputs": [
        {
          "output_type": "execute_result",
          "data": {
            "text/plain": [
              "dtype('int64')"
            ]
          },
          "metadata": {},
          "execution_count": 4
        }
      ]
    },
    {
      "cell_type": "code",
      "source": [
        "type(data)"
      ],
      "metadata": {
        "colab": {
          "base_uri": "https://localhost:8080/"
        },
        "id": "bRSx2d6o2ea-",
        "outputId": "349e797e-aa5c-47f2-9d6d-49c8a232991e"
      },
      "execution_count": 6,
      "outputs": [
        {
          "output_type": "execute_result",
          "data": {
            "text/plain": [
              "numpy.ndarray"
            ]
          },
          "metadata": {},
          "execution_count": 6
        }
      ]
    },
    {
      "cell_type": "markdown",
      "source": [
        "차원과 원소 수: ndim, size"
      ],
      "metadata": {
        "id": "AznvgnPp2wnC"
      }
    },
    {
      "cell_type": "code",
      "source": [
        "print('차원수:', data.ndim)\n",
        "print('원소수', data.size )"
      ],
      "metadata": {
        "colab": {
          "base_uri": "https://localhost:8080/"
        },
        "id": "ujgo-nt92x1s",
        "outputId": "3df7029c-bc1a-479c-d8ee-8a0c97a40c3c"
      },
      "execution_count": 8,
      "outputs": [
        {
          "output_type": "stream",
          "name": "stdout",
          "text": [
            "차원수: 1\n",
            "원소수 10\n"
          ]
        }
      ]
    },
    {
      "cell_type": "markdown",
      "source": [
        "모든 원소에 대한 계산"
      ],
      "metadata": {
        "id": "3G8hvYC-3B-0"
      }
    },
    {
      "cell_type": "code",
      "source": [
        "# 각 원소를 두 배로 증가시키기\n",
        "data * 2"
      ],
      "metadata": {
        "colab": {
          "base_uri": "https://localhost:8080/"
        },
        "id": "Xpwlo4yW3AjQ",
        "outputId": "18ea827e-0fba-4ae2-af5c-0b63f6caaaa2"
      },
      "execution_count": 18,
      "outputs": [
        {
          "output_type": "execute_result",
          "data": {
            "text/plain": [
              "array([18,  4,  6,  8, 20, 12, 14, 16,  2, 10])"
            ]
          },
          "metadata": {},
          "execution_count": 18
        }
      ]
    },
    {
      "cell_type": "code",
      "source": [
        "# 각 원소의 각 연산\n",
        "data1 = np.array([1,2,3,4,5,6,7,8,9,10])\n",
        "data2 = np.array([10,9,8,7,6,5,4,3,2,1])\n",
        "print('곱셈', data1 * data2)\n",
        "print('거듭제곱', data1 **2)\n",
        "print('나눗셈', data1 / data2)"
      ],
      "metadata": {
        "colab": {
          "base_uri": "https://localhost:8080/"
        },
        "id": "Ql4d3YOh3h1O",
        "outputId": "30457396-0df5-4db1-e91b-7b6345220b29"
      },
      "execution_count": 23,
      "outputs": [
        {
          "output_type": "stream",
          "name": "stdout",
          "text": [
            "곱셈 [10 18 24 28 30 30 28 24 18 10]\n",
            "거듭제곱 [  1   4   9  16  25  36  49  64  81 100]\n",
            "나눗셈 [ 0.1    0.222  0.375  0.571  0.833  1.2    1.75   2.667  4.5   10.   ]\n"
          ]
        }
      ]
    },
    {
      "cell_type": "markdown",
      "source": [
        "정렬(sort)\n",
        "\n",
        "기본설정: 오름차순"
      ],
      "metadata": {
        "id": "4ggrlMrS3_X-"
      }
    },
    {
      "cell_type": "code",
      "source": [
        "# 현재 값을 그대로 표시\n",
        "print('현재 순서', data)\n",
        "\n",
        "# 정렬한 결과 표시\n",
        "data.sort()\n",
        "print('오름차순 정렬 후', data)"
      ],
      "metadata": {
        "colab": {
          "base_uri": "https://localhost:8080/"
        },
        "id": "JPjmatS34Bls",
        "outputId": "329f785f-c310-418f-f76c-7e340ffb42fc"
      },
      "execution_count": 28,
      "outputs": [
        {
          "output_type": "stream",
          "name": "stdout",
          "text": [
            "현재 순서 [10  9  8  7  6  5  4  3  2  1]\n",
            "오름차순 정렬 후 [ 1  2  3  4  5  6  7  8  9 10]\n"
          ]
        }
      ]
    },
    {
      "cell_type": "code",
      "source": [
        "#내림차순\n",
        "data[::-1].sort()\n",
        "print('내림차순 정렬 후', data)"
      ],
      "metadata": {
        "colab": {
          "base_uri": "https://localhost:8080/"
        },
        "id": "PwNzTSS646NF",
        "outputId": "0dfabd19-8cea-4b7c-a399-90fbe8ad53d3"
      },
      "execution_count": 29,
      "outputs": [
        {
          "output_type": "stream",
          "name": "stdout",
          "text": [
            "내림차순 정렬 후 [10  9  8  7  6  5  4  3  2  1]\n"
          ]
        }
      ]
    },
    {
      "cell_type": "markdown",
      "source": [
        "최소, 최대, 합계, 누적합 계산"
      ],
      "metadata": {
        "id": "zckLK9xV5c4x"
      }
    },
    {
      "cell_type": "code",
      "source": [
        "print(\"data: \",data)\n",
        "print(\"Min: \", data.min())\n",
        "print(\"Max: \", data.max())\n",
        "print(\"Sum: \", data.sum())\n",
        "print(\"Cum: \", data.cumsum())\n",
        "print(\"Ratio: \", data.cumsum() / data.sum())"
      ],
      "metadata": {
        "colab": {
          "base_uri": "https://localhost:8080/"
        },
        "id": "pAydkjJY5gBt",
        "outputId": "e339ec81-ae25-41ef-d08c-30c4817df185"
      },
      "execution_count": 35,
      "outputs": [
        {
          "output_type": "stream",
          "name": "stdout",
          "text": [
            "data:  [10  9  8  7  6  5  4  3  2  1]\n",
            "Min:  1\n",
            "Max:  10\n",
            "Sum:  55\n",
            "Cum:  [10 19 27 34 40 45 49 52 54 55]\n",
            "Ratio:  [0.182 0.345 0.491 0.618 0.727 0.818 0.891 0.945 0.982 1.   ]\n"
          ]
        }
      ]
    },
    {
      "cell_type": "markdown",
      "source": [
        "난수"
      ],
      "metadata": {
        "id": "Ft22xtuW6YL2"
      }
    },
    {
      "cell_type": "code",
      "source": [
        "import numpy.random as random"
      ],
      "metadata": {
        "id": "-H8KWTEZ6ZU-"
      },
      "execution_count": 36,
      "outputs": []
    },
    {
      "cell_type": "code",
      "source": [
        "# 난수 시드\n",
        "random.seed(0)\n",
        "\n",
        "# 정규분포(평균0, 분산1)를 따르는 난수 10개 발생\n",
        "rnd_data = random.randn(10)\n",
        "\n",
        "print('10개의 난수 배열', rnd_data)"
      ],
      "metadata": {
        "colab": {
          "base_uri": "https://localhost:8080/"
        },
        "id": "gQBBMFYo6mGp",
        "outputId": "72edff4e-57c8-4e19-f026-c764e094c560"
      },
      "execution_count": 37,
      "outputs": [
        {
          "output_type": "stream",
          "name": "stdout",
          "text": [
            "10개의 난수 배열 [ 1.764  0.4    0.979  2.241  1.868 -0.977  0.95  -0.151 -0.103  0.411]\n"
          ]
        }
      ]
    },
    {
      "cell_type": "markdown",
      "source": [
        "데이터 무작위 추출: random.chice"
      ],
      "metadata": {
        "id": "t-rIaChH7VsZ"
      }
    },
    {
      "cell_type": "code",
      "source": [
        "# 추출 대상 데이터\n",
        "data = np.array([9,2,3,4,10,6,7,8,1,5])\n",
        "\n",
        "# 무작위 추출\n",
        "# 10개의 값을 추출( 중복이 있는 복원 추출)\n",
        "print(random.choice(data,10))\n",
        "\n",
        "# 10개의 앖을 추출(중복이 없는 비복원 추출)\n",
        "print(random.choice(data, 10, replace = False))"
      ],
      "metadata": {
        "colab": {
          "base_uri": "https://localhost:8080/"
        },
        "id": "70TaxDm97YPp",
        "outputId": "700a60df-2eb8-44ff-d20d-0bbe79feadc6"
      },
      "execution_count": 41,
      "outputs": [
        {
          "output_type": "stream",
          "name": "stdout",
          "text": [
            "[ 4  3  8  3  9  9 10  6  6  7]\n",
            "[ 4  6  9  7  3  8  5  2 10  1]\n"
          ]
        }
      ]
    },
    {
      "cell_type": "markdown",
      "source": [
        "행렬"
      ],
      "metadata": {
        "id": "aXYZvNel8SlE"
      }
    },
    {
      "cell_type": "code",
      "source": [
        "np.arange(9) #arange(): 지정한 숫자까지의 연속된 정수 생성"
      ],
      "metadata": {
        "colab": {
          "base_uri": "https://localhost:8080/"
        },
        "id": "ldsDpTmh8R65",
        "outputId": "2cc440ba-f072-460f-8091-1f35fddcc1c5"
      },
      "execution_count": 44,
      "outputs": [
        {
          "output_type": "execute_result",
          "data": {
            "text/plain": [
              "array([0, 1, 2, 3, 4, 5, 6, 7, 8])"
            ]
          },
          "metadata": {},
          "execution_count": 44
        }
      ]
    },
    {
      "cell_type": "code",
      "source": [
        "array1 = np.arange(9).reshape(3,3)\n",
        "print(array1)"
      ],
      "metadata": {
        "colab": {
          "base_uri": "https://localhost:8080/"
        },
        "id": "RJDx9k6x8gy6",
        "outputId": "00de070d-953f-43da-e368-30c0323e5380"
      },
      "execution_count": 45,
      "outputs": [
        {
          "output_type": "stream",
          "name": "stdout",
          "text": [
            "[[0 1 2]\n",
            " [3 4 5]\n",
            " [6 7 8]]\n"
          ]
        }
      ]
    },
    {
      "cell_type": "code",
      "source": [
        "# 첫 번째 행\n",
        "array1[0,:]"
      ],
      "metadata": {
        "colab": {
          "base_uri": "https://localhost:8080/"
        },
        "id": "j6Ubi1Vt9kWM",
        "outputId": "fde33d42-0bee-497e-8b75-1848fdb18905"
      },
      "execution_count": 58,
      "outputs": [
        {
          "output_type": "execute_result",
          "data": {
            "text/plain": [
              "array([0, 1, 2])"
            ]
          },
          "metadata": {},
          "execution_count": 58
        }
      ]
    },
    {
      "cell_type": "code",
      "source": [
        "# 첫 번째 열\n",
        "array1[:,0]"
      ],
      "metadata": {
        "colab": {
          "base_uri": "https://localhost:8080/"
        },
        "id": "uzKwrFGb97uh",
        "outputId": "9b41ca54-2402-4811-905c-65134ef57481"
      },
      "execution_count": 57,
      "outputs": [
        {
          "output_type": "execute_result",
          "data": {
            "text/plain": [
              "array([0, 3, 6])"
            ]
          },
          "metadata": {},
          "execution_count": 57
        }
      ]
    },
    {
      "cell_type": "markdown",
      "source": [
        "행렬 연산"
      ],
      "metadata": {
        "id": "N5r-bkP2-OT8"
      }
    },
    {
      "cell_type": "code",
      "source": [
        "array2 = np.arange(9,18).reshape(3,3)\n",
        "print(array2)"
      ],
      "metadata": {
        "colab": {
          "base_uri": "https://localhost:8080/"
        },
        "id": "GozWpNZC99kU",
        "outputId": "f3b13645-aecb-40c8-a16f-29485a9cde66"
      },
      "execution_count": 59,
      "outputs": [
        {
          "output_type": "stream",
          "name": "stdout",
          "text": [
            "[[ 9 10 11]\n",
            " [12 13 14]\n",
            " [15 16 17]]\n"
          ]
        }
      ]
    },
    {
      "cell_type": "code",
      "source": [
        "# 행렬 곱셈: dot\n",
        "np.dot(array1, array2)"
      ],
      "metadata": {
        "colab": {
          "base_uri": "https://localhost:8080/"
        },
        "id": "FYRoK3s9-WoP",
        "outputId": "9948a1ce-29b8-4027-92f2-ab027ab885c5"
      },
      "execution_count": 60,
      "outputs": [
        {
          "output_type": "execute_result",
          "data": {
            "text/plain": [
              "array([[ 42,  45,  48],\n",
              "       [150, 162, 174],\n",
              "       [258, 279, 300]])"
            ]
          },
          "metadata": {},
          "execution_count": 60
        }
      ]
    },
    {
      "cell_type": "code",
      "source": [
        "# 각 원소 간의 곱\n",
        "array1 * array2"
      ],
      "metadata": {
        "colab": {
          "base_uri": "https://localhost:8080/"
        },
        "id": "yt9l6o4_-dJj",
        "outputId": "2698dd94-09d7-4324-f12f-0c6766acbf02"
      },
      "execution_count": 61,
      "outputs": [
        {
          "output_type": "execute_result",
          "data": {
            "text/plain": [
              "array([[  0,  10,  22],\n",
              "       [ 36,  52,  70],\n",
              "       [ 90, 112, 136]])"
            ]
          },
          "metadata": {},
          "execution_count": 61
        }
      ]
    },
    {
      "cell_type": "markdown",
      "source": [
        "원소가 0이나 1인 행렬 생성"
      ],
      "metadata": {
        "id": "WOGUrw2G-iiF"
      }
    },
    {
      "cell_type": "code",
      "source": [
        "# np.zeros(): 모든 원소가 0인 행렬 생성\n",
        "# np.ones(): 모든 원소가 1인 행렬 생성\n",
        "\n",
        "print(np.zeros((2, 3), dtype = np.int64))\n",
        "print(np.ones((2, 3), dtype = np.float64))"
      ],
      "metadata": {
        "colab": {
          "base_uri": "https://localhost:8080/"
        },
        "id": "ypt2XCH0-kcx",
        "outputId": "99491bce-2a75-4887-f51d-c11ba4bc2eac"
      },
      "execution_count": 69,
      "outputs": [
        {
          "output_type": "stream",
          "name": "stdout",
          "text": [
            "[[0 0 0]\n",
            " [0 0 0]]\n",
            "[[1. 1. 1.]\n",
            " [1. 1. 1.]]\n"
          ]
        }
      ]
    },
    {
      "cell_type": "markdown",
      "source": [
        "\n",
        "\n",
        "---\n",
        "\n"
      ],
      "metadata": {
        "id": "ukYDAnr9BhWe"
      }
    },
    {
      "cell_type": "markdown",
      "source": [
        "Q. 1부터 50까지의 자연수의 합을 계산하고 계산 결과를 출력하는 프로그램을 작성하세요. 단, np.array로 1부터 50까지 숫자의 배열을 만들고 총합을 구하는 방식으로 계산하세요."
      ],
      "metadata": {
        "id": "eZ_Im2_5_8De"
      }
    },
    {
      "cell_type": "code",
      "source": [
        "# 1\n",
        "q1 = np.arange(1,51)\n",
        "q1 = np.array(q1)\n",
        "print(q1)\n",
        "\n",
        "print('합: ', q1.sum())"
      ],
      "metadata": {
        "colab": {
          "base_uri": "https://localhost:8080/"
        },
        "id": "UinR-38SAF63",
        "outputId": "d2a0067e-8e74-449e-bb3e-c058d54fcc39"
      },
      "execution_count": 78,
      "outputs": [
        {
          "output_type": "stream",
          "name": "stdout",
          "text": [
            "[ 1  2  3  4  5  6  7  8  9 10 11 12 13 14 15 16 17 18 19 20 21 22 23 24\n",
            " 25 26 27 28 29 30 31 32 33 34 35 36 37 38 39 40 41 42 43 44 45 46 47 48\n",
            " 49 50]\n",
            "합:  1275\n"
          ]
        }
      ]
    },
    {
      "cell_type": "code",
      "source": [
        "#2\n",
        "q1 = np.array([i for i in  range(1, 51)])\n",
        "print(q1)\n",
        "q1_sum = q1.sum()\n",
        "print('합: ', q1_sum)"
      ],
      "metadata": {
        "colab": {
          "base_uri": "https://localhost:8080/"
        },
        "id": "ypCOp_jzA-xN",
        "outputId": "09a83f75-b184-4c6d-bfe9-b61303227969"
      },
      "execution_count": 88,
      "outputs": [
        {
          "output_type": "stream",
          "name": "stdout",
          "text": [
            "[ 1  2  3  4  5  6  7  8  9 10 11 12 13 14 15 16 17 18 19 20 21 22 23 24\n",
            " 25 26 27 28 29 30 31 32 33 34 35 36 37 38 39 40 41 42 43 44 45 46 47 48\n",
            " 49 50]\n",
            "합:  1275\n"
          ]
        }
      ]
    },
    {
      "cell_type": "markdown",
      "source": [
        "Q2. 표준정규분포를 따르는 10개의 난수를 발생시켜 배열을 생성해라. 또한 배열의 최솟값과 최댓값, 합계를 구하는 프로그램을 작성하시오.\n",
        "\n"
      ],
      "metadata": {
        "id": "-J3TULo-BgIn"
      }
    },
    {
      "cell_type": "code",
      "source": [
        "#1\n",
        "random.seed(0)\n",
        "q2 = random.randn(10)\n",
        "print('최솟값: ', q2.min())\n",
        "print('최댓값: ', q2.max())\n",
        "print('합계: ', q2.sum()) "
      ],
      "metadata": {
        "colab": {
          "base_uri": "https://localhost:8080/"
        },
        "id": "JaV2_HXhCC3z",
        "outputId": "3f0ab1a4-10b0-4237-af93-3bf95cd62833"
      },
      "execution_count": 103,
      "outputs": [
        {
          "output_type": "stream",
          "name": "stdout",
          "text": [
            "최솟값:  -0.977277879876411\n",
            "최댓값:  2.240893199201458\n",
            "합계:  7.380231707288347\n"
          ]
        }
      ]
    }
  ]
}