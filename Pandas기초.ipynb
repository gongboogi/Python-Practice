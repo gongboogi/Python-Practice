{
  "nbformat": 4,
  "nbformat_minor": 0,
  "metadata": {
    "colab": {
      "name": "Pandas기초.ipynb",
      "provenance": [],
      "collapsed_sections": [],
      "authorship_tag": "ABX9TyPojQdVukXuBSvqc1t0wzoG",
      "include_colab_link": true
    },
    "kernelspec": {
      "name": "python3",
      "display_name": "Python 3"
    },
    "language_info": {
      "name": "python"
    }
  },
  "cells": [
    {
      "cell_type": "markdown",
      "metadata": {
        "id": "view-in-github",
        "colab_type": "text"
      },
      "source": [
        "<a href=\"https://colab.research.google.com/github/gongboogi/Python-Practice/blob/main/Pandas%EA%B8%B0%EC%B4%88.ipynb\" target=\"_parent\"><img src=\"https://colab.research.google.com/assets/colab-badge.svg\" alt=\"Open In Colab\"/></a>"
      ]
    },
    {
      "cell_type": "markdown",
      "source": [
        "### **판다스 기초**"
      ],
      "metadata": {
        "id": "XkO-rM-UiFZ0"
      }
    },
    {
      "cell_type": "code",
      "execution_count": 11,
      "metadata": {
        "id": "WYzdibOMh8P9"
      },
      "outputs": [],
      "source": [
        "import pandas as pd"
      ]
    },
    {
      "cell_type": "code",
      "source": [
        "from pandas import Series, DataFrame"
      ],
      "metadata": {
        "id": "PfrmpHgrnqCI"
      },
      "execution_count": 21,
      "outputs": []
    },
    {
      "cell_type": "markdown",
      "source": [
        "#### Series 사용법\n",
        "\n",
        ": Series는 1차원 배열 객체다. 판다스는 넘파이의 array를 기반으로 고유한 데이터 구조를 만든다."
      ],
      "metadata": {
        "id": "lOcCrL-wiMwu"
      }
    },
    {
      "cell_type": "code",
      "source": [
        "# Series\n",
        "sample_pandas_data = pd.Series([0,10,20,30,40,50,60,70,80,90])\n",
        "print(sample_pandas_data)"
      ],
      "metadata": {
        "colab": {
          "base_uri": "https://localhost:8080/"
        },
        "id": "E0EVBNrYiLqr",
        "outputId": "54d90fc1-f7c7-4149-d615-f92c02f707e6"
      },
      "execution_count": 12,
      "outputs": [
        {
          "output_type": "stream",
          "name": "stdout",
          "text": [
            "0     0\n",
            "1    10\n",
            "2    20\n",
            "3    30\n",
            "4    40\n",
            "5    50\n",
            "6    60\n",
            "7    70\n",
            "8    80\n",
            "9    90\n",
            "dtype: int64\n"
          ]
        }
      ]
    },
    {
      "cell_type": "markdown",
      "source": [
        "Series 객체를 print하면 두 개 그룹의 값이 출력된다. \n",
        "\n",
        "앞쪽 0~9, 10개의 값은 원소의 인덱스, dtype은 데이터 형이다."
      ],
      "metadata": {
        "id": "RFZFHLjailje"
      }
    },
    {
      "cell_type": "code",
      "source": [
        "# index를 알파벳으로 붙임\n",
        "sample_pandas_data = pd.Series(\n",
        "    [0,10,20,30,40,50,60,70,80,90],\n",
        "    index = ['a', 'b', 'c', 'd', 'e','f', 'g', 'h', 'i', 'j'])\n",
        "print(sample_pandas_data)"
      ],
      "metadata": {
        "colab": {
          "base_uri": "https://localhost:8080/"
        },
        "id": "SX9Jkavii4Vx",
        "outputId": "148529e2-7373-4c63-ed30-09ef85e220b9"
      },
      "execution_count": 4,
      "outputs": [
        {
          "output_type": "stream",
          "name": "stdout",
          "text": [
            "a     0\n",
            "b    10\n",
            "c    20\n",
            "d    30\n",
            "e    40\n",
            "f    50\n",
            "g    60\n",
            "h    70\n",
            "i    80\n",
            "j    90\n",
            "dtype: int64\n"
          ]
        }
      ]
    },
    {
      "cell_type": "code",
      "source": [
        "#values와 index 속성을 지정해 개별적으로 출력 가능\n",
        "print('데이터값: ', sample_pandas_data.values)\n",
        "print('인덱스값: ', sample_pandas_data.index)"
      ],
      "metadata": {
        "colab": {
          "base_uri": "https://localhost:8080/"
        },
        "id": "UvX_tzdQlpNw",
        "outputId": "8b19d007-5d60-402e-bc81-f4614462f9ee"
      },
      "execution_count": 7,
      "outputs": [
        {
          "output_type": "stream",
          "name": "stdout",
          "text": [
            "데이터값:  [ 0 10 20 30 40 50 60 70 80 90]\n",
            "인덱스값:  Index(['a', 'b', 'c', 'd', 'e', 'f', 'g', 'h', 'i', 'j'], dtype='object')\n"
          ]
        }
      ]
    },
    {
      "cell_type": "markdown",
      "source": [
        "#### DataFrame 사용법\n",
        "\n",
        "DataFrame 객체는 2차원 배열이다. 각 열에 다른 dtype(데이터형)을 가질 수 있다."
      ],
      "metadata": {
        "id": "dly9KEc_l-dG"
      }
    },
    {
      "cell_type": "code",
      "source": [
        "attri_data1 = {'ID' : ['100', '101', '102', '103', '104'],\n",
        "               'City' : ['Seoul', 'Pusan;', 'Daegu', 'Gangneung', 'Seoul'],\n",
        "               'Birth_year' : [1990, 2001, 2004, 1998, 1982],\n",
        "               'Name' : ['Ayoung', 'Hanbyul', 'Insung', 'Steve', 'Minho']}"
      ],
      "metadata": {
        "id": "FNlRVTZomBU7"
      },
      "execution_count": 26,
      "outputs": []
    },
    {
      "cell_type": "code",
      "source": [
        "attri_data_frame1 = DataFrame(attri_data1)\n",
        "print(attri_data_frame1)"
      ],
      "metadata": {
        "colab": {
          "base_uri": "https://localhost:8080/"
        },
        "id": "ax5VMSlHmx96",
        "outputId": "46f82dce-e019-4955-ecea-0f543bdd3854"
      },
      "execution_count": 27,
      "outputs": [
        {
          "output_type": "stream",
          "name": "stdout",
          "text": [
            "    ID       City  Birth_year     Name\n",
            "0  100      Seoul        1990   Ayoung\n",
            "1  101     Pusan;        2001  Hanbyul\n",
            "2  102      Daegu        2004   Insung\n",
            "3  103  Gangneung        1998    Steve\n",
            "4  104      Seoul        1982    Minho\n"
          ]
        }
      ]
    },
    {
      "cell_type": "code",
      "source": [
        "attri_data_frame_index1 = DataFrame(attri_data1, index = ['a', 'b', 'c', 'd', 'e'])\n",
        "print(attri_data_frame_index1)"
      ],
      "metadata": {
        "colab": {
          "base_uri": "https://localhost:8080/"
        },
        "id": "jK6uN3rToKLX",
        "outputId": "38b6940b-5e4d-4ff5-a024-cd7b0746ffc0"
      },
      "execution_count": 30,
      "outputs": [
        {
          "output_type": "stream",
          "name": "stdout",
          "text": [
            "    ID       City  Birth_year     Name\n",
            "a  100      Seoul        1990   Ayoung\n",
            "b  101     Pusan;        2001  Hanbyul\n",
            "c  102      Daegu        2004   Insung\n",
            "d  103  Gangneung        1998    Steve\n",
            "e  104      Seoul        1982    Minho\n"
          ]
        }
      ]
    },
    {
      "cell_type": "markdown",
      "source": [
        "#### 주피터 환경에서 데이터 출력\n",
        "\n",
        "Series 객체나 DataFrame 객체를 출력할 때 print 함수를 사용했다. 주피터 환경에서는 데이터의 변수를 다음 코드와 같은 방법으로 보기 좋게 출력할 수도 있다."
      ],
      "metadata": {
        "id": "6nhDmXW5oqZr"
      }
    },
    {
      "cell_type": "code",
      "source": [
        "attri_data_frame_index1"
      ],
      "metadata": {
        "colab": {
          "base_uri": "https://localhost:8080/",
          "height": 206
        },
        "id": "MYxPCAvRose_",
        "outputId": "eb9dcef1-7eee-42bd-b312-86c7b80c247d"
      },
      "execution_count": 31,
      "outputs": [
        {
          "output_type": "execute_result",
          "data": {
            "text/plain": [
              "    ID       City  Birth_year     Name\n",
              "a  100      Seoul        1990   Ayoung\n",
              "b  101     Pusan;        2001  Hanbyul\n",
              "c  102      Daegu        2004   Insung\n",
              "d  103  Gangneung        1998    Steve\n",
              "e  104      Seoul        1982    Minho"
            ],
            "text/html": [
              "\n",
              "  <div id=\"df-4dd92a2d-c5cc-4521-b425-a2eccf9481a9\">\n",
              "    <div class=\"colab-df-container\">\n",
              "      <div>\n",
              "<style scoped>\n",
              "    .dataframe tbody tr th:only-of-type {\n",
              "        vertical-align: middle;\n",
              "    }\n",
              "\n",
              "    .dataframe tbody tr th {\n",
              "        vertical-align: top;\n",
              "    }\n",
              "\n",
              "    .dataframe thead th {\n",
              "        text-align: right;\n",
              "    }\n",
              "</style>\n",
              "<table border=\"1\" class=\"dataframe\">\n",
              "  <thead>\n",
              "    <tr style=\"text-align: right;\">\n",
              "      <th></th>\n",
              "      <th>ID</th>\n",
              "      <th>City</th>\n",
              "      <th>Birth_year</th>\n",
              "      <th>Name</th>\n",
              "    </tr>\n",
              "  </thead>\n",
              "  <tbody>\n",
              "    <tr>\n",
              "      <th>a</th>\n",
              "      <td>100</td>\n",
              "      <td>Seoul</td>\n",
              "      <td>1990</td>\n",
              "      <td>Ayoung</td>\n",
              "    </tr>\n",
              "    <tr>\n",
              "      <th>b</th>\n",
              "      <td>101</td>\n",
              "      <td>Pusan;</td>\n",
              "      <td>2001</td>\n",
              "      <td>Hanbyul</td>\n",
              "    </tr>\n",
              "    <tr>\n",
              "      <th>c</th>\n",
              "      <td>102</td>\n",
              "      <td>Daegu</td>\n",
              "      <td>2004</td>\n",
              "      <td>Insung</td>\n",
              "    </tr>\n",
              "    <tr>\n",
              "      <th>d</th>\n",
              "      <td>103</td>\n",
              "      <td>Gangneung</td>\n",
              "      <td>1998</td>\n",
              "      <td>Steve</td>\n",
              "    </tr>\n",
              "    <tr>\n",
              "      <th>e</th>\n",
              "      <td>104</td>\n",
              "      <td>Seoul</td>\n",
              "      <td>1982</td>\n",
              "      <td>Minho</td>\n",
              "    </tr>\n",
              "  </tbody>\n",
              "</table>\n",
              "</div>\n",
              "      <button class=\"colab-df-convert\" onclick=\"convertToInteractive('df-4dd92a2d-c5cc-4521-b425-a2eccf9481a9')\"\n",
              "              title=\"Convert this dataframe to an interactive table.\"\n",
              "              style=\"display:none;\">\n",
              "        \n",
              "  <svg xmlns=\"http://www.w3.org/2000/svg\" height=\"24px\"viewBox=\"0 0 24 24\"\n",
              "       width=\"24px\">\n",
              "    <path d=\"M0 0h24v24H0V0z\" fill=\"none\"/>\n",
              "    <path d=\"M18.56 5.44l.94 2.06.94-2.06 2.06-.94-2.06-.94-.94-2.06-.94 2.06-2.06.94zm-11 1L8.5 8.5l.94-2.06 2.06-.94-2.06-.94L8.5 2.5l-.94 2.06-2.06.94zm10 10l.94 2.06.94-2.06 2.06-.94-2.06-.94-.94-2.06-.94 2.06-2.06.94z\"/><path d=\"M17.41 7.96l-1.37-1.37c-.4-.4-.92-.59-1.43-.59-.52 0-1.04.2-1.43.59L10.3 9.45l-7.72 7.72c-.78.78-.78 2.05 0 2.83L4 21.41c.39.39.9.59 1.41.59.51 0 1.02-.2 1.41-.59l7.78-7.78 2.81-2.81c.8-.78.8-2.07 0-2.86zM5.41 20L4 18.59l7.72-7.72 1.47 1.35L5.41 20z\"/>\n",
              "  </svg>\n",
              "      </button>\n",
              "      \n",
              "  <style>\n",
              "    .colab-df-container {\n",
              "      display:flex;\n",
              "      flex-wrap:wrap;\n",
              "      gap: 12px;\n",
              "    }\n",
              "\n",
              "    .colab-df-convert {\n",
              "      background-color: #E8F0FE;\n",
              "      border: none;\n",
              "      border-radius: 50%;\n",
              "      cursor: pointer;\n",
              "      display: none;\n",
              "      fill: #1967D2;\n",
              "      height: 32px;\n",
              "      padding: 0 0 0 0;\n",
              "      width: 32px;\n",
              "    }\n",
              "\n",
              "    .colab-df-convert:hover {\n",
              "      background-color: #E2EBFA;\n",
              "      box-shadow: 0px 1px 2px rgba(60, 64, 67, 0.3), 0px 1px 3px 1px rgba(60, 64, 67, 0.15);\n",
              "      fill: #174EA6;\n",
              "    }\n",
              "\n",
              "    [theme=dark] .colab-df-convert {\n",
              "      background-color: #3B4455;\n",
              "      fill: #D2E3FC;\n",
              "    }\n",
              "\n",
              "    [theme=dark] .colab-df-convert:hover {\n",
              "      background-color: #434B5C;\n",
              "      box-shadow: 0px 1px 3px 1px rgba(0, 0, 0, 0.15);\n",
              "      filter: drop-shadow(0px 1px 2px rgba(0, 0, 0, 0.3));\n",
              "      fill: #FFFFFF;\n",
              "    }\n",
              "  </style>\n",
              "\n",
              "      <script>\n",
              "        const buttonEl =\n",
              "          document.querySelector('#df-4dd92a2d-c5cc-4521-b425-a2eccf9481a9 button.colab-df-convert');\n",
              "        buttonEl.style.display =\n",
              "          google.colab.kernel.accessAllowed ? 'block' : 'none';\n",
              "\n",
              "        async function convertToInteractive(key) {\n",
              "          const element = document.querySelector('#df-4dd92a2d-c5cc-4521-b425-a2eccf9481a9');\n",
              "          const dataTable =\n",
              "            await google.colab.kernel.invokeFunction('convertToInteractive',\n",
              "                                                     [key], {});\n",
              "          if (!dataTable) return;\n",
              "\n",
              "          const docLinkHtml = 'Like what you see? Visit the ' +\n",
              "            '<a target=\"_blank\" href=https://colab.research.google.com/notebooks/data_table.ipynb>data table notebook</a>'\n",
              "            + ' to learn more about interactive tables.';\n",
              "          element.innerHTML = '';\n",
              "          dataTable['output_type'] = 'display_data';\n",
              "          await google.colab.output.renderOutput(dataTable, element);\n",
              "          const docLink = document.createElement('div');\n",
              "          docLink.innerHTML = docLinkHtml;\n",
              "          element.appendChild(docLink);\n",
              "        }\n",
              "      </script>\n",
              "    </div>\n",
              "  </div>\n",
              "  "
            ]
          },
          "metadata": {},
          "execution_count": 31
        }
      ]
    },
    {
      "cell_type": "markdown",
      "source": [
        "#### 행렬 다루기\n",
        "\n",
        "DataFrame으로 다양한 행렬 연산이 가능하다."
      ],
      "metadata": {
        "id": "FzlUNY0DpEDl"
      }
    },
    {
      "cell_type": "markdown",
      "source": [
        "**전치**\n",
        "\n",
        "전치행렬처럼 행과 열을 바꾸는 경우 .T 메서드를 사용."
      ],
      "metadata": {
        "id": "G2iSARbipKkk"
      }
    },
    {
      "cell_type": "code",
      "source": [
        "# 전치\n",
        "attri_data_frame1.T"
      ],
      "metadata": {
        "colab": {
          "base_uri": "https://localhost:8080/",
          "height": 175
        },
        "id": "bsiVj09ypFIm",
        "outputId": "2a8413e3-f316-4a72-a78f-160d81efc47c"
      },
      "execution_count": 32,
      "outputs": [
        {
          "output_type": "execute_result",
          "data": {
            "text/plain": [
              "                 0        1       2          3      4\n",
              "ID             100      101     102        103    104\n",
              "City         Seoul   Pusan;   Daegu  Gangneung  Seoul\n",
              "Birth_year    1990     2001    2004       1998   1982\n",
              "Name        Ayoung  Hanbyul  Insung      Steve  Minho"
            ],
            "text/html": [
              "\n",
              "  <div id=\"df-3a1ba7a3-040c-40f2-8e58-6b5e07ef7e94\">\n",
              "    <div class=\"colab-df-container\">\n",
              "      <div>\n",
              "<style scoped>\n",
              "    .dataframe tbody tr th:only-of-type {\n",
              "        vertical-align: middle;\n",
              "    }\n",
              "\n",
              "    .dataframe tbody tr th {\n",
              "        vertical-align: top;\n",
              "    }\n",
              "\n",
              "    .dataframe thead th {\n",
              "        text-align: right;\n",
              "    }\n",
              "</style>\n",
              "<table border=\"1\" class=\"dataframe\">\n",
              "  <thead>\n",
              "    <tr style=\"text-align: right;\">\n",
              "      <th></th>\n",
              "      <th>0</th>\n",
              "      <th>1</th>\n",
              "      <th>2</th>\n",
              "      <th>3</th>\n",
              "      <th>4</th>\n",
              "    </tr>\n",
              "  </thead>\n",
              "  <tbody>\n",
              "    <tr>\n",
              "      <th>ID</th>\n",
              "      <td>100</td>\n",
              "      <td>101</td>\n",
              "      <td>102</td>\n",
              "      <td>103</td>\n",
              "      <td>104</td>\n",
              "    </tr>\n",
              "    <tr>\n",
              "      <th>City</th>\n",
              "      <td>Seoul</td>\n",
              "      <td>Pusan;</td>\n",
              "      <td>Daegu</td>\n",
              "      <td>Gangneung</td>\n",
              "      <td>Seoul</td>\n",
              "    </tr>\n",
              "    <tr>\n",
              "      <th>Birth_year</th>\n",
              "      <td>1990</td>\n",
              "      <td>2001</td>\n",
              "      <td>2004</td>\n",
              "      <td>1998</td>\n",
              "      <td>1982</td>\n",
              "    </tr>\n",
              "    <tr>\n",
              "      <th>Name</th>\n",
              "      <td>Ayoung</td>\n",
              "      <td>Hanbyul</td>\n",
              "      <td>Insung</td>\n",
              "      <td>Steve</td>\n",
              "      <td>Minho</td>\n",
              "    </tr>\n",
              "  </tbody>\n",
              "</table>\n",
              "</div>\n",
              "      <button class=\"colab-df-convert\" onclick=\"convertToInteractive('df-3a1ba7a3-040c-40f2-8e58-6b5e07ef7e94')\"\n",
              "              title=\"Convert this dataframe to an interactive table.\"\n",
              "              style=\"display:none;\">\n",
              "        \n",
              "  <svg xmlns=\"http://www.w3.org/2000/svg\" height=\"24px\"viewBox=\"0 0 24 24\"\n",
              "       width=\"24px\">\n",
              "    <path d=\"M0 0h24v24H0V0z\" fill=\"none\"/>\n",
              "    <path d=\"M18.56 5.44l.94 2.06.94-2.06 2.06-.94-2.06-.94-.94-2.06-.94 2.06-2.06.94zm-11 1L8.5 8.5l.94-2.06 2.06-.94-2.06-.94L8.5 2.5l-.94 2.06-2.06.94zm10 10l.94 2.06.94-2.06 2.06-.94-2.06-.94-.94-2.06-.94 2.06-2.06.94z\"/><path d=\"M17.41 7.96l-1.37-1.37c-.4-.4-.92-.59-1.43-.59-.52 0-1.04.2-1.43.59L10.3 9.45l-7.72 7.72c-.78.78-.78 2.05 0 2.83L4 21.41c.39.39.9.59 1.41.59.51 0 1.02-.2 1.41-.59l7.78-7.78 2.81-2.81c.8-.78.8-2.07 0-2.86zM5.41 20L4 18.59l7.72-7.72 1.47 1.35L5.41 20z\"/>\n",
              "  </svg>\n",
              "      </button>\n",
              "      \n",
              "  <style>\n",
              "    .colab-df-container {\n",
              "      display:flex;\n",
              "      flex-wrap:wrap;\n",
              "      gap: 12px;\n",
              "    }\n",
              "\n",
              "    .colab-df-convert {\n",
              "      background-color: #E8F0FE;\n",
              "      border: none;\n",
              "      border-radius: 50%;\n",
              "      cursor: pointer;\n",
              "      display: none;\n",
              "      fill: #1967D2;\n",
              "      height: 32px;\n",
              "      padding: 0 0 0 0;\n",
              "      width: 32px;\n",
              "    }\n",
              "\n",
              "    .colab-df-convert:hover {\n",
              "      background-color: #E2EBFA;\n",
              "      box-shadow: 0px 1px 2px rgba(60, 64, 67, 0.3), 0px 1px 3px 1px rgba(60, 64, 67, 0.15);\n",
              "      fill: #174EA6;\n",
              "    }\n",
              "\n",
              "    [theme=dark] .colab-df-convert {\n",
              "      background-color: #3B4455;\n",
              "      fill: #D2E3FC;\n",
              "    }\n",
              "\n",
              "    [theme=dark] .colab-df-convert:hover {\n",
              "      background-color: #434B5C;\n",
              "      box-shadow: 0px 1px 3px 1px rgba(0, 0, 0, 0.15);\n",
              "      filter: drop-shadow(0px 1px 2px rgba(0, 0, 0, 0.3));\n",
              "      fill: #FFFFFF;\n",
              "    }\n",
              "  </style>\n",
              "\n",
              "      <script>\n",
              "        const buttonEl =\n",
              "          document.querySelector('#df-3a1ba7a3-040c-40f2-8e58-6b5e07ef7e94 button.colab-df-convert');\n",
              "        buttonEl.style.display =\n",
              "          google.colab.kernel.accessAllowed ? 'block' : 'none';\n",
              "\n",
              "        async function convertToInteractive(key) {\n",
              "          const element = document.querySelector('#df-3a1ba7a3-040c-40f2-8e58-6b5e07ef7e94');\n",
              "          const dataTable =\n",
              "            await google.colab.kernel.invokeFunction('convertToInteractive',\n",
              "                                                     [key], {});\n",
              "          if (!dataTable) return;\n",
              "\n",
              "          const docLinkHtml = 'Like what you see? Visit the ' +\n",
              "            '<a target=\"_blank\" href=https://colab.research.google.com/notebooks/data_table.ipynb>data table notebook</a>'\n",
              "            + ' to learn more about interactive tables.';\n",
              "          element.innerHTML = '';\n",
              "          dataTable['output_type'] = 'display_data';\n",
              "          await google.colab.output.renderOutput(dataTable, element);\n",
              "          const docLink = document.createElement('div');\n",
              "          docLink.innerHTML = docLinkHtml;\n",
              "          element.appendChild(docLink);\n",
              "        }\n",
              "      </script>\n",
              "    </div>\n",
              "  </div>\n",
              "  "
            ]
          },
          "metadata": {},
          "execution_count": 32
        }
      ]
    },
    {
      "cell_type": "markdown",
      "source": [
        "**특정 열만 추출하기**\n",
        "\n",
        "특정 열만 지정할 때는 데이터 다음에 열 이름을 지정.\n",
        "\n",
        "복수의 열은 파이썬 리스트 형식으로 지정한다."
      ],
      "metadata": {
        "id": "KIa99w0SpS-c"
      }
    },
    {
      "cell_type": "code",
      "source": [
        "# 열 이름 지정( 1개일 경우)\n",
        "attri_data_frame1.Name"
      ],
      "metadata": {
        "colab": {
          "base_uri": "https://localhost:8080/"
        },
        "id": "UM6p6hAupasl",
        "outputId": "dec0e57d-2a83-40ac-e187-dc6b11248fe6"
      },
      "execution_count": 33,
      "outputs": [
        {
          "output_type": "execute_result",
          "data": {
            "text/plain": [
              "0     Ayoung\n",
              "1    Hanbyul\n",
              "2     Insung\n",
              "3      Steve\n",
              "4      Minho\n",
              "Name: Name, dtype: object"
            ]
          },
          "metadata": {},
          "execution_count": 33
        }
      ]
    },
    {
      "cell_type": "code",
      "source": [
        "# 열 이름 지정(복수일 경우)"
      ],
      "metadata": {
        "id": "R51ZC_Bipgmr"
      },
      "execution_count": null,
      "outputs": []
    }
  ]
}