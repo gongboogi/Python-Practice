{
  "nbformat": 4,
  "nbformat_minor": 0,
  "metadata": {
    "colab": {
      "name": "사이파이(SciPy) 기초.ipynb",
      "provenance": [],
      "collapsed_sections": [],
      "authorship_tag": "ABX9TyPAw7NbBAWSh84QihVTGWxc",
      "include_colab_link": true
    },
    "kernelspec": {
      "name": "python3",
      "display_name": "Python 3"
    },
    "language_info": {
      "name": "python"
    }
  },
  "cells": [
    {
      "cell_type": "markdown",
      "metadata": {
        "id": "view-in-github",
        "colab_type": "text"
      },
      "source": [
        "<a href=\"https://colab.research.google.com/github/gongboogi/Python-Practice/blob/main/SciPy_%EA%B8%B0%EC%B4%88.ipynb\" target=\"_parent\"><img src=\"https://colab.research.google.com/assets/colab-badge.svg\" alt=\"Open In Colab\"/></a>"
      ]
    },
    {
      "cell_type": "markdown",
      "source": [
        "### 사이파이 기초"
      ],
      "metadata": {
        "id": "tYAEOpDhEf6g"
      }
    },
    {
      "cell_type": "markdown",
      "source": [
        "1. 사이파이 라이브러리 임포트"
      ],
      "metadata": {
        "id": "zPjcRD7JFKUC"
      }
    },
    {
      "cell_type": "code",
      "execution_count": 2,
      "metadata": {
        "id": "CpvNRm-ADcL5"
      },
      "outputs": [],
      "source": [
        "# 사이파이 라이브러리 임포트\n",
        "import numpy as np\n",
        "import scipy as sp\n",
        "\n",
        "# 선형대수용 라이브러리, 최적화 계산(최솟값)용 함수\n",
        "import scipy.linalg as linalg\n",
        "from scipy.optimize import minimize_scalar"
      ]
    },
    {
      "cell_type": "markdown",
      "source": [
        "2. 행렬 연산: det"
      ],
      "metadata": {
        "id": "YTWBbuI7FI8G"
      }
    },
    {
      "cell_type": "code",
      "source": [
        "matrix = np.array([[1,-1,-1], [-1,1,-1], [-1,-1,1]])\n",
        "\n",
        "# 행렬식\n",
        "print('행렬식: ', linalg.det(matrix))"
      ],
      "metadata": {
        "colab": {
          "base_uri": "https://localhost:8080/"
        },
        "id": "WrTpkrY7FGbm",
        "outputId": "249ed093-08d9-4c1a-ae22-022cc7141805"
      },
      "execution_count": 3,
      "outputs": [
        {
          "output_type": "stream",
          "name": "stdout",
          "text": [
            "행렬식:  -4.0\n"
          ]
        }
      ]
    },
    {
      "cell_type": "code",
      "source": [
        "# 역행렬: inv\n",
        "print('역행렬')\n",
        "print(linalg.inv(matrix))"
      ],
      "metadata": {
        "colab": {
          "base_uri": "https://localhost:8080/"
        },
        "id": "DZu_5PKDFnqe",
        "outputId": "d87c83c7-c737-492f-aef3-a6c272c995bd"
      },
      "execution_count": 5,
      "outputs": [
        {
          "output_type": "stream",
          "name": "stdout",
          "text": [
            "역행렬\n",
            "[[ 0.  -0.5 -0.5]\n",
            " [-0.5 -0.  -0.5]\n",
            " [-0.5 -0.5  0. ]]\n"
          ]
        }
      ]
    },
    {
      "cell_type": "code",
      "source": [
        "print(matrix.dot(linalg.inv(matrix)))"
      ],
      "metadata": {
        "colab": {
          "base_uri": "https://localhost:8080/"
        },
        "id": "o9LKGx01ODDk",
        "outputId": "7029fb10-9ada-4260-f5e1-40ed90d8963e"
      },
      "execution_count": 6,
      "outputs": [
        {
          "output_type": "stream",
          "name": "stdout",
          "text": [
            "[[1. 0. 0.]\n",
            " [0. 1. 0.]\n",
            " [0. 0. 1.]]\n"
          ]
        }
      ]
    },
    {
      "cell_type": "markdown",
      "source": [
        "고윳값과 고유벡터"
      ],
      "metadata": {
        "id": "6waPI4xmOL4W"
      }
    },
    {
      "cell_type": "code",
      "source": [
        "# 고윳값과 고유벡터: linalg의 eig 함수\n",
        "eig_value, eig_vector = linalg.eig(matrix)\n",
        "\n",
        "print('고윳값')\n",
        "print(eig_value)\n",
        "print('고유벡터')\n",
        "print(eig_vector)"
      ],
      "metadata": {
        "colab": {
          "base_uri": "https://localhost:8080/"
        },
        "id": "hbp7FCc5OOEU",
        "outputId": "483646e9-d5d4-4ccc-c510-da26db6795af"
      },
      "execution_count": 8,
      "outputs": [
        {
          "output_type": "stream",
          "name": "stdout",
          "text": [
            "고윳값\n",
            "[-1.+0.j  2.+0.j  2.+0.j]\n",
            "고유벡터\n",
            "[[ 0.57735027  0.81649658  0.40824829]\n",
            " [ 0.57735027 -0.40824829 -0.81649658]\n",
            " [ 0.57735027 -0.40824829  0.40824829]]\n"
          ]
        }
      ]
    },
    {
      "cell_type": "markdown",
      "source": [
        "## 뉴턴법\n",
        "\n",
        "최적화 계산에 대해서"
      ],
      "metadata": {
        "id": "NK7Ev_khOh6b"
      }
    },
    {
      "cell_type": "markdown",
      "source": [
        "**방정식의 해 구하기**"
      ],
      "metadata": {
        "id": "JvURYFU-OpCr"
      }
    },
    {
      "cell_type": "code",
      "source": [
        "# 함수 정의\n",
        "def my_function(x) :\n",
        "  return (x**2 + 2*x + 1)"
      ],
      "metadata": {
        "id": "k60MxLivOmij"
      },
      "execution_count": 9,
      "outputs": []
    },
    {
      "cell_type": "markdown",
      "source": [
        "예시 코드에서 f(x) = 0의 해를 구하기 위해서 newton 함수를 사용한다.\n",
        "\n",
        "newton 함수의 첫 번째 인수로 my_function 함수를 설정하고, 두 번째 인수는 해를 결정하는 조건식인 f(x) = 0에서 함수의 값 0을 지정한다."
      ],
      "metadata": {
        "id": "TTrQvDmYO8pX"
      }
    },
    {
      "cell_type": "code",
      "source": [
        "# 뉴턴법 임포트\n",
        "from scipy.optimize import newton\n",
        "\n",
        "# 연산 실행\n",
        "print(newton(my_function, 0))"
      ],
      "metadata": {
        "colab": {
          "base_uri": "https://localhost:8080/"
        },
        "id": "uEzGJehMPLgE",
        "outputId": "90085725-e243-4ede-a3fe-2f22a1715efe"
      },
      "execution_count": 10,
      "outputs": [
        {
          "output_type": "stream",
          "name": "stdout",
          "text": [
            "-0.9999999852953906\n"
          ]
        }
      ]
    },
    {
      "cell_type": "markdown",
      "source": [
        "\n",
        "\n",
        "---\n",
        "\n"
      ],
      "metadata": {
        "id": "l7nSAwwYW4zW"
      }
    },
    {
      "cell_type": "markdown",
      "source": [
        "### 연습문제\n",
        "\n",
        "1. 다음 행렬에 대해 행렬식을 구하세요."
      ],
      "metadata": {
        "id": "ZiYzSNCbW7R9"
      }
    }
  ]
}